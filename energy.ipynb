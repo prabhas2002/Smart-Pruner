{
 "cells": [
  {
   "cell_type": "code",
   "execution_count": 1,
   "metadata": {},
   "outputs": [
    {
     "name": "stdout",
     "output_type": "stream",
     "text": [
      "Importing /raid/home/prabhasreddy/sysforml/Smart-pruner-dev/pruning/unstructured/L1norm.py\n",
      "Importing /raid/home/prabhasreddy/sysforml/Smart-pruner-dev/pruning/Train.py\n",
      "Importing /raid/home/prabhasreddy/sysforml/Smart-pruner-dev/pruning/unstructured/random.py\n",
      "Importing /raid/home/prabhasreddy/sysforml/Smart-pruner-dev/pruning/structured/decay_pruning.py\n",
      "Importing /raid/home/prabhasreddy/sysforml/Smart-pruner-dev/pruning/structured/two_to_four.py\n",
      "Importing /raid/home/prabhasreddy/sysforml/Smart-pruner-dev/pruning/structured/Thinet.py\n",
      "Importing /raid/home/prabhasreddy/sysforml/Smart-pruner-dev/pruning/structured/Global_pruning.py\n",
      "Importing /raid/home/prabhasreddy/sysforml/Smart-pruner-dev/pruning/structured/Ln_structured.py\n"
     ]
    }
   ],
   "source": [
    "import torch.nn as nn\n",
    "\n",
    "from datasets import *\n",
    "from evaluation import *\n",
    "from models import *\n",
    "from pruning.unstructured import *\n",
    "from pruning.structured import *"
   ]
  },
  {
   "cell_type": "code",
   "execution_count": 2,
   "metadata": {},
   "outputs": [],
   "source": [
    "dataset = MNIST()\n",
    "train_loader, test_loader = dataset.get_dataloader()"
   ]
  },
  {
   "cell_type": "code",
   "execution_count": 3,
   "metadata": {},
   "outputs": [
    {
     "data": {
      "application/vnd.jupyter.widget-view+json": {
       "model_id": "9254877e79c542769c9cdeadff8cb701",
       "version_major": 2,
       "version_minor": 0
      },
      "text/plain": [
       "  0%|          | 0/5 [00:00<?, ?it/s]"
      ]
     },
     "metadata": {},
     "output_type": "display_data"
    },
    {
     "name": "stdout",
     "output_type": "stream",
     "text": [
      "Epoch: 1 | train_loss: 4.9743 | \n",
      "Epoch: 2 | train_loss: 3.6368 | \n",
      "Epoch: 3 | train_loss: 3.2351 | \n",
      "Epoch: 4 | train_loss: 2.9756 | \n",
      "Epoch: 5 | train_loss: 2.7218 | \n"
     ]
    }
   ],
   "source": [
    "#train model and return it\n",
    "model = Lenet()\n",
    "criterion = nn.CrossEntropyLoss()\n",
    "optimizer = torch.optim.Adam(model.parameters(), lr=0.001)\n",
    "model = Trainer(model, 5, train_loader, criterion, optimizer)\n",
    "original_model = model.train()\n",
    "#print(\"Accuracy of original model : \", accuracy(original_model, test_loader))"
   ]
  },
  {
   "cell_type": "code",
   "execution_count": 4,
   "metadata": {},
   "outputs": [],
   "source": [
    "#for UnstructuredL1normPrune\n",
    "\n",
    "# model = Lenet()\n",
    "criterion = nn.CrossEntropyLoss()\n",
    "optimizer = torch.optim.Adam(original_model.parameters(), lr=0.001)\n",
    "\n",
    "trainer = UnstructuredL1normPrune(original_model, 5, train_loader, criterion, optimizer, 0.9)\n",
    "\n",
    "#train and prune the model and return both the original and pruned model\n",
    "#original_model, pruned_model = trainer.train_prune_retrain()\n",
    "pruned_model = trainer.prune_model()"
   ]
  },
  {
   "cell_type": "code",
   "execution_count": 5,
   "metadata": {},
   "outputs": [],
   "source": [
    "%%bash --bg \n",
    "while true; do nvidia-smi -i 0 --format=csv,noheader,nounits --query-gpu=power.draw >> unpruned_output.txt; sleep 0.1; done"
   ]
  },
  {
   "cell_type": "code",
   "execution_count": 6,
   "metadata": {},
   "outputs": [
    {
     "name": "stdout",
     "output_type": "stream",
     "text": [
      "Accuracy of original model :  [98.73]\n"
     ]
    }
   ],
   "source": [
    "print(\"Accuracy of original model : \", accuracy(original_model, test_loader))\n",
    "\n",
    "with open('unpruned_output.txt', 'a') as f:\n",
    "    f.write(\"\\energy computation for original model completed.\\n\")"
   ]
  },
  {
   "cell_type": "code",
   "execution_count": 7,
   "metadata": {},
   "outputs": [],
   "source": [
    "%%bash\n",
    "pgrep -f \"watch -n 1 'nvidia-smi -i 0 --format=csv,noheader,nounits --query-gpu=power.draw >> unpruned_output.txt'\" | xargs -r kill"
   ]
  },
  {
   "cell_type": "code",
   "execution_count": 8,
   "metadata": {},
   "outputs": [],
   "source": [
    "#for pruned "
   ]
  },
  {
   "cell_type": "code",
   "execution_count": 9,
   "metadata": {},
   "outputs": [],
   "source": [
    "%%bash --bg \n",
    "while true; do nvidia-smi -i 0 --format=csv,noheader,nounits --query-gpu=power.draw >> pruned_output.txt; sleep 0.1; done"
   ]
  },
  {
   "cell_type": "code",
   "execution_count": 10,
   "metadata": {},
   "outputs": [
    {
     "name": "stdout",
     "output_type": "stream",
     "text": [
      "Accuracy of pruned model :  [27.24]\n"
     ]
    }
   ],
   "source": [
    "print(\"Accuracy of pruned model : \", accuracy(pruned_model, test_loader))\n",
    "\n",
    "with open('pruned_output.txt', 'a') as f:\n",
    "    f.write(\"\\energy computation for pruned model completed.\\n\")"
   ]
  },
  {
   "cell_type": "code",
   "execution_count": 11,
   "metadata": {},
   "outputs": [],
   "source": [
    "%%bash\n",
    "pgrep -f \"watch -n 1 'nvidia-smi -i 0 --format=csv,noheader,nounits --query-gpu=power.draw >> pruned_output.txt'\" | xargs -r kill"
   ]
  },
  {
   "cell_type": "code",
   "execution_count": null,
   "metadata": {},
   "outputs": [],
   "source": [
    "#done"
   ]
  }
 ],
 "metadata": {
  "kernelspec": {
   "display_name": "Python 3",
   "language": "python",
   "name": "python3"
  },
  "language_info": {
   "codemirror_mode": {
    "name": "ipython",
    "version": 3
   },
   "file_extension": ".py",
   "mimetype": "text/x-python",
   "name": "python",
   "nbconvert_exporter": "python",
   "pygments_lexer": "ipython3",
   "version": "3.8.10"
  }
 },
 "nbformat": 4,
 "nbformat_minor": 2
}
