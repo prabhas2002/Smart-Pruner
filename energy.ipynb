{
 "cells": [
  {
   "cell_type": "code",
   "execution_count": 1,
   "metadata": {},
   "outputs": [
    {
     "name": "stdout",
     "output_type": "stream",
     "text": [
      "Importing /raid/home/prabhasreddy/yaswanth/smart-pruner/pruning/unstructured/L1norm.py\n",
      "Importing /raid/home/prabhasreddy/yaswanth/smart-pruner/pruning/Train.py\n",
      "Importing /raid/home/prabhasreddy/yaswanth/smart-pruner/pruning/unstructured/random.py\n",
      "Importing /raid/home/prabhasreddy/yaswanth/smart-pruner/pruning/structured/decay_pruning.py\n",
      "Importing /raid/home/prabhasreddy/yaswanth/smart-pruner/pruning/structured/two_to_four.py\n",
      "Importing /raid/home/prabhasreddy/yaswanth/smart-pruner/pruning/structured/Thinet.py\n",
      "Importing /raid/home/prabhasreddy/yaswanth/smart-pruner/pruning/structured/Global_pruning.py\n",
      "Importing /raid/home/prabhasreddy/yaswanth/smart-pruner/pruning/structured/Ln_structured.py\n"
     ]
    },
    {
     "name": "stderr",
     "output_type": "stream",
     "text": [
      "/raid/home/prabhasreddy/yaswanth/smart-pruner/venv/lib/python3.8/site-packages/tqdm/auto.py:21: TqdmWarning: IProgress not found. Please update jupyter and ipywidgets. See https://ipywidgets.readthedocs.io/en/stable/user_install.html\n",
      "  from .autonotebook import tqdm as notebook_tqdm\n"
     ]
    }
   ],
   "source": [
    "import torch.nn as nn\n",
    "\n",
    "from datasets import *\n",
    "from evaluation import *\n",
    "from models import *\n",
    "from pruning.unstructured import *\n",
    "from pruning.structured import *\n",
    "from pyJoules.device.nvidia_device import NvidiaGPUDomain"
   ]
  },
  {
   "cell_type": "code",
   "execution_count": 2,
   "metadata": {},
   "outputs": [
    {
     "name": "stdout",
     "output_type": "stream",
     "text": [
      "Files already downloaded and verified\n",
      "Files already downloaded and verified\n"
     ]
    }
   ],
   "source": [
    "# dataset = MNIST()\n",
    "dataset = CIFAR10()\n",
    "train_loader, test_loader = dataset.get_dataloader()"
   ]
  },
  {
   "cell_type": "code",
   "execution_count": 3,
   "metadata": {},
   "outputs": [
    {
     "name": "stderr",
     "output_type": "stream",
     "text": [
      " 20%|██        | 1/5 [00:16<01:05, 16.43s/it]"
     ]
    },
    {
     "name": "stdout",
     "output_type": "stream",
     "text": [
      "Epoch: 1 | train_loss: 6.4954 | \n"
     ]
    },
    {
     "name": "stderr",
     "output_type": "stream",
     "text": [
      " 40%|████      | 2/5 [00:31<00:47, 15.69s/it]"
     ]
    },
    {
     "name": "stdout",
     "output_type": "stream",
     "text": [
      "Epoch: 2 | train_loss: 6.3084 | \n"
     ]
    },
    {
     "name": "stderr",
     "output_type": "stream",
     "text": [
      " 60%|██████    | 3/5 [00:46<00:30, 15.26s/it]"
     ]
    },
    {
     "name": "stdout",
     "output_type": "stream",
     "text": [
      "Epoch: 3 | train_loss: 6.1653 | \n"
     ]
    },
    {
     "name": "stderr",
     "output_type": "stream",
     "text": [
      " 80%|████████  | 4/5 [01:00<00:14, 14.96s/it]"
     ]
    },
    {
     "name": "stdout",
     "output_type": "stream",
     "text": [
      "Epoch: 4 | train_loss: 6.1076 | \n"
     ]
    },
    {
     "name": "stderr",
     "output_type": "stream",
     "text": [
      "100%|██████████| 5/5 [01:14<00:00, 14.95s/it]"
     ]
    },
    {
     "name": "stdout",
     "output_type": "stream",
     "text": [
      "Epoch: 5 | train_loss: 5.9600 | \n"
     ]
    },
    {
     "name": "stderr",
     "output_type": "stream",
     "text": [
      "\n"
     ]
    }
   ],
   "source": [
    "#train model and return it\n",
    "# model = Lenet()\n",
    "model = ResNet50_Cifar10()\n",
    "criterion = nn.CrossEntropyLoss()\n",
    "optimizer = torch.optim.Adam(model.parameters(), lr=0.001)\n",
    "model = Trainer(model, 5, train_loader, criterion, optimizer)\n",
    "original_model = model.train()\n",
    "#print(\"Accuracy of original model : \", accuracy(original_model, test_loader))"
   ]
  },
  {
   "cell_type": "code",
   "execution_count": 20,
   "metadata": {},
   "outputs": [],
   "source": [
    "#for UnstructuredL1normPrune\n",
    "\n",
    "# model = Lenet()\n",
    "criterion = nn.CrossEntropyLoss()\n",
    "optimizer = torch.optim.Adam(original_model.parameters(), lr=0.001)\n",
    "\n",
    "# trainer = UnstructuredL1normPrune(original_model, 5, train_loader, criterion, optimizer, 0.9)\n",
    "trainer = GlobalPrune(original_model, 5, train_loader, criterion, optimizer, 0.5)\n",
    "\n",
    "#train and prune the model and return both the original and pruned model\n",
    "#original_model, pruned_model = trainer.train_prune_retrain()\n",
    "pruned_model = trainer.prune_model()"
   ]
  },
  {
   "cell_type": "code",
   "execution_count": 6,
   "metadata": {},
   "outputs": [],
   "source": [
    "# %%bash --bg \n",
    "# while true; do nvidia-smi -i 0 --format=csv,noheader,nounits --query-gpu=power.draw >> unpruned_output.txt; sleep 0.1; done"
   ]
  },
  {
   "cell_type": "code",
   "execution_count": 7,
   "metadata": {},
   "outputs": [
    {
     "name": "stdout",
     "output_type": "stream",
     "text": [
      "begin timestamp : 1712778846.2185016; tag : accuracy; duration : 1.787135362625122; nvidia_gpu_0 : 101351\n",
      "Accuracy of original model :  [66.08]\n"
     ]
    }
   ],
   "source": [
    "print(\"Accuracy of original model : \", accuracy(original_model, test_loader))\n",
    "\n",
    "# with open('unpruned_output.txt', 'a') as f:\n",
    "#     f.write(\"\\energy computation for original model completed.\\n\")"
   ]
  },
  {
   "cell_type": "code",
   "execution_count": 7,
   "metadata": {},
   "outputs": [],
   "source": [
    "# %%bash\n",
    "# pgrep -f \"watch -n 1 'nvidia-smi -i 0 --format=csv,noheader,nounits --query-gpu=power.draw >> unpruned_output.txt'\" | xargs -r kill"
   ]
  },
  {
   "cell_type": "code",
   "execution_count": 8,
   "metadata": {},
   "outputs": [],
   "source": [
    "#for pruned "
   ]
  },
  {
   "cell_type": "code",
   "execution_count": 9,
   "metadata": {},
   "outputs": [],
   "source": [
    "# %%bash --bg \n",
    "# while true; do nvidia-smi -i 0 --format=csv,noheader,nounits --query-gpu=power.draw >> pruned_output.txt; sleep 0.1; done"
   ]
  },
  {
   "cell_type": "code",
   "execution_count": 15,
   "metadata": {},
   "outputs": [
    {
     "name": "stdout",
     "output_type": "stream",
     "text": [
      "begin timestamp : 1712778973.0649247; tag : accuracy; duration : 1.7264270782470703; nvidia_gpu_0 : 97941\n",
      "Accuracy of pruned model :  [36.83]\n"
     ]
    }
   ],
   "source": [
    "print(\"Accuracy of pruned model : \", accuracy(pruned_model, test_loader))\n",
    "\n",
    "# with open('pruned_output.txt', 'a') as f:\n",
    "#     f.write(\"\\energy computation for pruned model completed.\\n\")"
   ]
  },
  {
   "cell_type": "code",
   "execution_count": 11,
   "metadata": {},
   "outputs": [],
   "source": [
    "# %%bash\n",
    "# pgrep -f \"watch -n 1 'nvidia-smi -i 0 --format=csv,noheader,nounits --query-gpu=power.draw >> pruned_output.txt'\" | xargs -r kill"
   ]
  },
  {
   "cell_type": "code",
   "execution_count": 12,
   "metadata": {},
   "outputs": [],
   "source": [
    "#done"
   ]
  },
  {
   "cell_type": "code",
   "execution_count": 28,
   "metadata": {},
   "outputs": [
    {
     "name": "stdout",
     "output_type": "stream",
     "text": [
      "begin timestamp : 1712779332.8319275; tag : accuracy; duration : 1.6843435764312744; nvidia_gpu_0 : 95537\n",
      "begin timestamp : 1712779334.518447; tag : accuracy; duration : 1.625730276107788; nvidia_gpu_0 : 92260\n"
     ]
    },
    {
     "data": {
      "text/plain": [
       "array([65.9])"
      ]
     },
     "execution_count": 28,
     "metadata": {},
     "output_type": "execute_result"
    }
   ],
   "source": [
    "# with EnergyContext(domains=[NvidiaGPUDomain(0)]):\n",
    "#     accuracy(original_model, test_loader)\n",
    "temp = accuracy(original_model, test_loader)\n",
    "accuracy(pruned_model, test_loader)"
   ]
  },
  {
   "cell_type": "code",
   "execution_count": 18,
   "metadata": {},
   "outputs": [
    {
     "name": "stdout",
     "output_type": "stream",
     "text": [
      "[66.08]\n"
     ]
    }
   ],
   "source": [
    "print(temp)"
   ]
  }
 ],
 "metadata": {
  "kernelspec": {
   "display_name": "Python 3",
   "language": "python",
   "name": "python3"
  },
  "language_info": {
   "codemirror_mode": {
    "name": "ipython",
    "version": 3
   },
   "file_extension": ".py",
   "mimetype": "text/x-python",
   "name": "python",
   "nbconvert_exporter": "python",
   "pygments_lexer": "ipython3",
   "version": "3.8.10"
  }
 },
 "nbformat": 4,
 "nbformat_minor": 2
}
