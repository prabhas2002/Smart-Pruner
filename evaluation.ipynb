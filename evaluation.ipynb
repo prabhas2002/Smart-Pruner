{
 "cells": [
  {
   "cell_type": "code",
   "execution_count": 1,
   "metadata": {},
   "outputs": [
    {
     "name": "stderr",
     "output_type": "stream",
     "text": [
      "c:\\Users\\prabh\\AppData\\Local\\Programs\\Python\\Python310\\lib\\site-packages\\torchvision\\io\\image.py:13: UserWarning: Failed to load image Python extension: '[WinError 127] The specified procedure could not be found'If you don't plan on using image functionality from `torchvision.io`, you can ignore this warning. Otherwise, there might be something wrong with your environment. Did you have `libjpeg` or `libpng` installed before building `torchvision` from source?\n",
      "  warn(\n",
      "c:\\Users\\prabh\\AppData\\Local\\Programs\\Python\\Python310\\lib\\site-packages\\transformers\\utils\\generic.py:441: UserWarning: torch.utils._pytree._register_pytree_node is deprecated. Please use torch.utils._pytree.register_pytree_node instead.\n",
      "  _torch_pytree._register_pytree_node(\n"
     ]
    },
    {
     "name": "stdout",
     "output_type": "stream",
     "text": [
      "Importing C:\\Users\\prabh\\Smart-pruner-dev\\pruning\\unstructured\\L1norm.py\n",
      "Importing C:\\Users\\prabh\\Smart-pruner-dev\\pruning\\Train.py\n"
     ]
    }
   ],
   "source": [
    "from datasets import MNIST\n",
    "from evaluation.plots import compare_compression_ratio_vs_accuracy\n",
    "from models import Lenet"
   ]
  },
  {
   "cell_type": "code",
   "execution_count": 2,
   "metadata": {},
   "outputs": [
    {
     "data": {
      "application/vnd.jupyter.widget-view+json": {
       "model_id": "1e2d1a6936334b19af934a370c178ad1",
       "version_major": 2,
       "version_minor": 0
      },
      "text/plain": [
       "  0%|          | 0/5 [00:00<?, ?it/s]"
      ]
     },
     "metadata": {},
     "output_type": "display_data"
    },
    {
     "name": "stdout",
     "output_type": "stream",
     "text": [
      "Epoch: 1 | train_loss: 4.3276 | \n",
      "Epoch: 2 | train_loss: 3.0339 | \n",
      "Epoch: 3 | train_loss: 2.5737 | \n",
      "Epoch: 4 | train_loss: 2.2158 | \n",
      "Epoch: 5 | train_loss: 1.9480 | \n",
      "Training is done\n",
      "Pruning is done\n"
     ]
    },
    {
     "data": {
      "application/vnd.jupyter.widget-view+json": {
       "model_id": "8449cccc1dd6469e866428efee657249",
       "version_major": 2,
       "version_minor": 0
      },
      "text/plain": [
       "  0%|          | 0/5 [00:00<?, ?it/s]"
      ]
     },
     "metadata": {},
     "output_type": "display_data"
    },
    {
     "name": "stdout",
     "output_type": "stream",
     "text": [
      "Epoch: 1 | train_loss: 1.6592 | \n",
      "Epoch: 2 | train_loss: 1.3717 | \n",
      "Epoch: 3 | train_loss: 1.0950 | \n",
      "Epoch: 4 | train_loss: 0.9121 | \n",
      "Epoch: 5 | train_loss: 0.5866 | \n",
      "Training is done\n",
      "Pruning is done\n"
     ]
    },
    {
     "data": {
      "application/vnd.jupyter.widget-view+json": {
       "model_id": "30e43b5a73284e23b2a92eedf8b1393f",
       "version_major": 2,
       "version_minor": 0
      },
      "text/plain": [
       "  0%|          | 0/5 [00:00<?, ?it/s]"
      ]
     },
     "metadata": {},
     "output_type": "display_data"
    },
    {
     "name": "stdout",
     "output_type": "stream",
     "text": [
      "Epoch: 1 | train_loss: 0.7556 | \n",
      "Epoch: 2 | train_loss: 0.3228 | \n",
      "Epoch: 3 | train_loss: -0.0015 | \n",
      "Epoch: 4 | train_loss: -0.2656 | \n",
      "Epoch: 5 | train_loss: -0.4344 | \n",
      "Training is done\n",
      "Pruning is done\n"
     ]
    },
    {
     "data": {
      "application/vnd.jupyter.widget-view+json": {
       "model_id": "0fa45cde3d8a48958ba304640ec84bd9",
       "version_major": 2,
       "version_minor": 0
      },
      "text/plain": [
       "  0%|          | 0/5 [00:00<?, ?it/s]"
      ]
     },
     "metadata": {},
     "output_type": "display_data"
    },
    {
     "name": "stdout",
     "output_type": "stream",
     "text": [
      "Epoch: 1 | train_loss: 0.5371 | \n",
      "Epoch: 2 | train_loss: 0.0455 | \n",
      "Epoch: 3 | train_loss: -0.4639 | \n",
      "Epoch: 4 | train_loss: -0.7201 | \n",
      "Epoch: 5 | train_loss: -0.8776 | \n",
      "Training is done\n",
      "Pruning is done\n"
     ]
    },
    {
     "data": {
      "application/vnd.jupyter.widget-view+json": {
       "model_id": "dc1c466ab2514a49897f7e6496254023",
       "version_major": 2,
       "version_minor": 0
      },
      "text/plain": [
       "  0%|          | 0/5 [00:00<?, ?it/s]"
      ]
     },
     "metadata": {},
     "output_type": "display_data"
    },
    {
     "name": "stdout",
     "output_type": "stream",
     "text": [
      "Epoch: 1 | train_loss: 1.4714 | \n",
      "Epoch: 2 | train_loss: 0.6774 | \n",
      "Epoch: 3 | train_loss: 0.3628 | \n",
      "Epoch: 4 | train_loss: -0.3977 | \n",
      "Epoch: 5 | train_loss: -0.8550 | \n",
      "Training is done\n",
      "Pruning is done\n",
      "Accuracy of the model without pruning is [100.]\n",
      "compression_ratios = [0.1, 0.3, 0.5, 0.7, 0.9]\n",
      "accuracies = [array([98.32]), array([99.42]), array([99.36]), array([95.69]), array([55.8])]\n"
     ]
    },
    {
     "data": {
      "image/png": "[encoded data removed]",
      "text/plain": [
       "<Figure size 640x480 with 1 Axes>"
      ]
     },
     "metadata": {},
     "output_type": "display_data"
    }
   ],
   "source": [
    "model = Lenet()\n",
    "dataset = MNIST()\n",
    "compare_compression_ratio_vs_accuracy(model, dataset)"
   ]
  },
  {
   "cell_type": "code",
   "execution_count": null,
   "metadata": {},
   "outputs": [],
   "source": []
  }
 ],
 "metadata": {
  "kernelspec": {
   "display_name": "Python 3",
   "language": "python",
   "name": "python3"
  },
  "language_info": {
   "codemirror_mode": {
    "name": "ipython",
    "version": 3
   },
   "file_extension": ".py",
   "mimetype": "text/x-python",
   "name": "python",
   "nbconvert_exporter": "python",
   "pygments_lexer": "ipython3",
   "version": "3.10.11"
  }
 },
 "nbformat": 4,
 "nbformat_minor": 2
}
