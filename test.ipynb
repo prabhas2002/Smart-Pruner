{
 "cells": [
  {
   "cell_type": "code",
   "execution_count": 1,
   "metadata": {
    "ExecuteTime": {
     "end_time": "2024-03-11T08:44:38.691809Z",
     "start_time": "2024-03-11T08:44:38.686405Z"
    }
   },
   "outputs": [
    {
     "name": "stderr",
     "output_type": "stream",
     "text": [
      "c:\\Users\\prabh\\AppData\\Local\\Programs\\Python\\Python310\\lib\\site-packages\\torchvision\\io\\image.py:13: UserWarning: Failed to load image Python extension: '[WinError 127] The specified procedure could not be found'If you don't plan on using image functionality from `torchvision.io`, you can ignore this warning. Otherwise, there might be something wrong with your environment. Did you have `libjpeg` or `libpng` installed before building `torchvision` from source?\n",
      "  warn(\n",
      "c:\\Users\\prabh\\AppData\\Local\\Programs\\Python\\Python310\\lib\\site-packages\\transformers\\utils\\generic.py:441: UserWarning: torch.utils._pytree._register_pytree_node is deprecated. Please use torch.utils._pytree.register_pytree_node instead.\n",
      "  _torch_pytree._register_pytree_node(\n"
     ]
    },
    {
     "name": "stdout",
     "output_type": "stream",
     "text": [
      "Importing C:\\Users\\prabh\\Smart-pruner-dev\\pruning\\unstructured\\L1norm.py\n",
      "Importing C:\\Users\\prabh\\Smart-pruner-dev\\pruning\\Train.py\n",
      "Importing C:\\Users\\prabh\\Smart-pruner-dev\\pruning\\structured\\decay_pruning.py\n",
      "Importing C:\\Users\\prabh\\Smart-pruner-dev\\pruning\\structured\\two_to_four.py\n"
     ]
    }
   ],
   "source": [
    "import torch.nn as nn\n",
    "\n",
    "from datasets import *\n",
    "from evaluation import *\n",
    "from models import *\n",
    "from pruning.unstructured import *\n",
    "from pruning.structured import *"
   ]
  },
  {
   "cell_type": "code",
   "execution_count": 2,
   "metadata": {
    "ExecuteTime": {
     "end_time": "2024-03-11T08:44:39.731672Z",
     "start_time": "2024-03-11T08:44:38.729713Z"
    }
   },
   "outputs": [],
   "source": [
    "model = Lenet()\n",
    "mnist = MNIST()\n",
    "train_loader, test_loader = mnist.get_dataloader()"
   ]
  },
  {
   "cell_type": "code",
   "execution_count": 3,
   "metadata": {
    "ExecuteTime": {
     "end_time": "2024-03-11T08:44:39.737789Z",
     "start_time": "2024-03-11T08:44:39.733511Z"
    }
   },
   "outputs": [],
   "source": [
    "criterion = nn.CrossEntropyLoss()\n",
    "optimizer = torch.optim.Adam(model.parameters(), lr=0.01)"
   ]
  },
  {
   "cell_type": "code",
   "execution_count": 4,
   "metadata": {},
   "outputs": [
    {
     "data": {
      "application/vnd.jupyter.widget-view+json": {
       "model_id": "f7cf3e6a72e041e0b02803fc115df479",
       "version_major": 2,
       "version_minor": 0
      },
      "text/plain": [
       "  0%|          | 0/5 [00:00<?, ?it/s]"
      ]
     },
     "metadata": {},
     "output_type": "display_data"
    },
    {
     "name": "stdout",
     "output_type": "stream",
     "text": [
      "Epoch: 1 | train_loss: 3.3998 | \n",
      "Epoch: 2 | train_loss: 2.2014 | \n",
      "Epoch: 3 | train_loss: 1.7774 | \n",
      "Epoch: 4 | train_loss: 1.6937 | \n",
      "Epoch: 5 | train_loss: 1.4428 | \n"
     ]
    },
    {
     "data": {
      "text/plain": [
       "Lenet(\n",
       "  (conv1): Conv2d(1, 6, kernel_size=(5, 5), stride=(1, 1))\n",
       "  (conv2): Conv2d(6, 16, kernel_size=(5, 5), stride=(1, 1))\n",
       "  (fc1): Linear(in_features=256, out_features=120, bias=True)\n",
       "  (fc2): Linear(in_features=120, out_features=84, bias=True)\n",
       "  (fc3): Linear(in_features=84, out_features=10, bias=True)\n",
       ")"
      ]
     },
     "execution_count": 4,
     "metadata": {},
     "output_type": "execute_result"
    }
   ],
   "source": [
    "#for only training of any model (pruned or unpruned)\n",
    "trainer=Trainer(model, 5, train_loader, criterion, optimizer)\n",
    "trainer.train()"
   ]
  },
  {
   "cell_type": "code",
   "execution_count": 6,
   "metadata": {
    "ExecuteTime": {
     "end_time": "2024-03-11T08:44:46.438005Z",
     "start_time": "2024-03-11T08:44:39.739719Z"
    }
   },
   "outputs": [],
   "source": [
    "criterion = nn.CrossEntropyLoss()\n",
    "optimizer = torch.optim.Adam(model.parameters(), lr=0.01)\n",
    "trainer = two_to_four_prune(model, 5, train_loader, criterion, optimizer)\n",
    "#train and prune the model and return both the original and pruned model\n",
    "pruned_model = trainer.prune_model()"
   ]
  },
  {
   "cell_type": "code",
   "execution_count": 7,
   "metadata": {
    "ExecuteTime": {
     "end_time": "2024-03-11T08:44:48.194293Z",
     "start_time": "2024-03-11T08:44:46.440478Z"
    }
   },
   "outputs": [
    {
     "name": "stdout",
     "output_type": "stream",
     "text": [
      "[0.986]\n",
      "[0.6005]\n",
      "44190\n",
      "22350\n",
      "0.5057705363204344\n"
     ]
    }
   ],
   "source": [
    "print(accuracy(model, test_loader))\n",
    "print(accuracy(pruned_model, test_loader))\n",
    "print(non_zero_weights(model))\n",
    "print(non_zero_weights(pruned_model))\n",
    "print(compression_ratio(model, pruned_model))"
   ]
  },
  {
   "cell_type": "code",
   "execution_count": 8,
   "metadata": {},
   "outputs": [
    {
     "data": {
      "application/vnd.jupyter.widget-view+json": {
       "model_id": "00e81eaee361465e9d401b58d518fd3b",
       "version_major": 2,
       "version_minor": 0
      },
      "text/plain": [
       "  0%|          | 0/5 [00:00<?, ?it/s]"
      ]
     },
     "metadata": {},
     "output_type": "display_data"
    },
    {
     "name": "stdout",
     "output_type": "stream",
     "text": [
      "Epoch: 1 | train_loss: 3.4955 | \n",
      "Epoch: 2 | train_loss: 2.2716 | \n",
      "Epoch: 3 | train_loss: 2.0482 | \n",
      "Epoch: 4 | train_loss: 1.7170 | \n",
      "Epoch: 5 | train_loss: 1.6914 | \n",
      "Training is done\n",
      "Pruning is done\n"
     ]
    }
   ],
   "source": [
    "lenet = Lenet()\n",
    "criterion = nn.CrossEntropyLoss()\n",
    "optimizer = torch.optim.Adam(lenet.parameters(), lr=0.01)\n",
    "trainer = DecayPrune(lenet, 5, train_loader, criterion, optimizer, 0.9,0.2,False) #init pruning rate = 0.5, decay = 0.1\n",
    "#train and prune the model and return both the original and pruned model\n",
    "decay_model, decay_pruned_model = trainer.train_prune_retrain()"
   ]
  },
  {
   "cell_type": "code",
   "execution_count": 9,
   "metadata": {},
   "outputs": [
    {
     "name": "stdout",
     "output_type": "stream",
     "text": [
      "[0.9873]\n",
      "[0.7823]\n",
      "44190\n",
      "14163\n",
      "0.32050237610319077\n"
     ]
    }
   ],
   "source": [
    "print(accuracy(decay_model, test_loader))\n",
    "print(accuracy(decay_pruned_model, test_loader))\n",
    "print(non_zero_weights(decay_model))\n",
    "print(non_zero_weights(decay_pruned_model))\n",
    "print(compression_ratio(decay_model, decay_pruned_model))"
   ]
  },
  {
   "cell_type": "code",
   "execution_count": 10,
   "metadata": {},
   "outputs": [
    {
     "data": {
      "application/vnd.jupyter.widget-view+json": {
       "model_id": "7777a67214c248a99fbc5b8a37c6599f",
       "version_major": 2,
       "version_minor": 0
      },
      "text/plain": [
       "  0%|          | 0/5 [00:00<?, ?it/s]"
      ]
     },
     "metadata": {},
     "output_type": "display_data"
    },
    {
     "name": "stdout",
     "output_type": "stream",
     "text": [
      "Epoch: 1 | train_loss: 3.6427 | \n"
     ]
    }
   ],
   "source": [
    "#with reverse =True\n",
    "lenet = Lenet()\n",
    "criterion = nn.CrossEntropyLoss()\n",
    "optimizer = torch.optim.Adam(lenet.parameters(), lr=0.01)\n",
    "trainer = DecayPrune(lenet, 5, train_loader, criterion, optimizer, 0.9,0.2,True) #init pruning rate = 0.5, decay = 0.1\n",
    "#train and prune the model and return both the original and pruned model\n",
    "decay_model, decay_pruned_model = trainer.train_prune_retrain()"
   ]
  },
  {
   "cell_type": "code",
   "execution_count": null,
   "metadata": {},
   "outputs": [
    {
     "name": "stdout",
     "output_type": "stream",
     "text": [
      "[0.9837]\n",
      "[0.7749]\n",
      "44190\n",
      "14163\n",
      "0.32050237610319077\n"
     ]
    }
   ],
   "source": [
    "print(accuracy(decay_model, test_loader))\n",
    "print(accuracy(decay_pruned_model, test_loader))\n",
    "print(non_zero_weights(decay_model))\n",
    "print(non_zero_weights(decay_pruned_model))\n",
    "print(compression_ratio(decay_model, decay_pruned_model))"
   ]
  },
  {
   "cell_type": "code",
   "execution_count": null,
   "metadata": {},
   "outputs": [],
   "source": []
  }
 ],
 "metadata": {
  "kernelspec": {
   "display_name": "Python 3 (ipykernel)",
   "language": "python",
   "name": "python3"
  },
  "language_info": {
   "codemirror_mode": {
    "name": "ipython",
    "version": 3
   },
   "file_extension": ".py",
   "mimetype": "text/x-python",
   "name": "python",
   "nbconvert_exporter": "python",
   "pygments_lexer": "ipython3",
   "version": "3.10.11"
  }
 },
 "nbformat": 4,
 "nbformat_minor": 4
}
