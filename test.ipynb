{
 "cells": [
  {
   "cell_type": "code",
<<<<<<< HEAD
   "execution_count": 1,
=======
   "execution_count": 2,
>>>>>>> a2bf833f06835b5fdfcc3efb1e5347798c0cd8ef
   "metadata": {
    "ExecuteTime": {
     "end_time": "2024-03-11T08:44:38.691809Z",
     "start_time": "2024-03-11T08:44:38.686405Z"
    }
   },
   "outputs": [
    {
     "name": "stderr",
     "output_type": "stream",
     "text": [
<<<<<<< HEAD
      "c:\\Users\\prabh\\AppData\\Local\\Programs\\Python\\Python310\\lib\\site-packages\\torchvision\\io\\image.py:13: UserWarning: Failed to load image Python extension: '[WinError 127] The specified procedure could not be found'If you don't plan on using image functionality from `torchvision.io`, you can ignore this warning. Otherwise, there might be something wrong with your environment. Did you have `libjpeg` or `libpng` installed before building `torchvision` from source?\n",
      "  warn(\n",
      "c:\\Users\\prabh\\AppData\\Local\\Programs\\Python\\Python310\\lib\\site-packages\\transformers\\utils\\generic.py:441: UserWarning: torch.utils._pytree._register_pytree_node is deprecated. Please use torch.utils._pytree.register_pytree_node instead.\n",
      "  _torch_pytree._register_pytree_node(\n"
=======
      "Matplotlib is building the font cache; this may take a moment.\n"
>>>>>>> a2bf833f06835b5fdfcc3efb1e5347798c0cd8ef
     ]
    },
    {
     "name": "stdout",
     "output_type": "stream",
     "text": [
<<<<<<< HEAD
      "Importing C:\\Users\\prabh\\Smart-pruner-dev\\pruning\\unstructured\\L1norm.py\n",
      "Importing C:\\Users\\prabh\\Smart-pruner-dev\\pruning\\unstructured\\Train.py\n",
      "Importing C:\\Users\\prabh\\Smart-pruner-dev\\pruning\\unstructured\\Train.py\n"
=======
      "Importing /data2/home/yaswanthk/smart-pruner/pruning/unstructured/L1norm.py\n",
      "Importing /data2/home/yaswanthk/smart-pruner/pruning/Train.py\n",
      "Importing /data2/home/yaswanthk/smart-pruner/pruning/structured/decay_pruning.py\n",
      "Importing /data2/home/yaswanthk/smart-pruner/pruning/structured/two_to_four.py\n"
>>>>>>> a2bf833f06835b5fdfcc3efb1e5347798c0cd8ef
     ]
    }
   ],
   "source": [
    "import torch.nn as nn\n",
    "\n",
    "from datasets import *\n",
    "from evaluation import *\n",
    "from models import *\n",
    "from pruning.unstructured import *\n",
    "from pruning.structured import *"
   ]
  },
  {
   "cell_type": "code",
<<<<<<< HEAD
   "execution_count": 2,
=======
   "execution_count": null,
>>>>>>> a2bf833f06835b5fdfcc3efb1e5347798c0cd8ef
   "metadata": {
    "collapsed": false
   },
   "outputs": [
    {
     "name": "stdout",
     "output_type": "stream",
     "text": [
      "Downloading http://yann.lecun.com/exdb/mnist/train-images-idx3-ubyte.gz\n",
      "Downloading http://yann.lecun.com/exdb/mnist/train-images-idx3-ubyte.gz to ./data\\MNIST\\raw\\train-images-idx3-ubyte.gz\n"
     ]
    },
    {
     "name": "stderr",
     "output_type": "stream",
     "text": [
      "100%|██████████| 9912422/9912422 [00:47<00:00, 207800.57it/s]\n"
     ]
    },
    {
     "name": "stdout",
     "output_type": "stream",
     "text": [
      "Extracting ./data\\MNIST\\raw\\train-images-idx3-ubyte.gz to ./data\\MNIST\\raw\n",
      "\n",
      "Downloading http://yann.lecun.com/exdb/mnist/train-labels-idx1-ubyte.gz\n",
      "Downloading http://yann.lecun.com/exdb/mnist/train-labels-idx1-ubyte.gz to ./data\\MNIST\\raw\\train-labels-idx1-ubyte.gz\n"
     ]
    },
    {
     "name": "stderr",
     "output_type": "stream",
     "text": [
      "100%|██████████| 28881/28881 [00:00<00:00, 853302.62it/s]\n"
     ]
    },
    {
     "name": "stdout",
     "output_type": "stream",
     "text": [
      "Extracting ./data\\MNIST\\raw\\train-labels-idx1-ubyte.gz to ./data\\MNIST\\raw\n",
      "\n",
      "Downloading http://yann.lecun.com/exdb/mnist/t10k-images-idx3-ubyte.gz\n",
      "Downloading http://yann.lecun.com/exdb/mnist/t10k-images-idx3-ubyte.gz to ./data\\MNIST\\raw\\t10k-images-idx3-ubyte.gz\n"
     ]
    },
    {
     "name": "stderr",
     "output_type": "stream",
     "text": [
      "100%|██████████| 1648877/1648877 [00:03<00:00, 507515.28it/s]\n"
     ]
    },
    {
     "name": "stdout",
     "output_type": "stream",
     "text": [
      "Extracting ./data\\MNIST\\raw\\t10k-images-idx3-ubyte.gz to ./data\\MNIST\\raw\n",
      "\n",
      "Downloading http://yann.lecun.com/exdb/mnist/t10k-labels-idx1-ubyte.gz\n",
      "Downloading http://yann.lecun.com/exdb/mnist/t10k-labels-idx1-ubyte.gz to ./data\\MNIST\\raw\\t10k-labels-idx1-ubyte.gz\n"
     ]
    },
    {
     "name": "stderr",
     "output_type": "stream",
     "text": [
      "100%|██████████| 4542/4542 [00:00<?, ?it/s]"
     ]
    },
    {
     "name": "stdout",
     "output_type": "stream",
     "text": [
      "Extracting ./data\\MNIST\\raw\\t10k-labels-idx1-ubyte.gz to ./data\\MNIST\\raw\n",
      "\n"
     ]
    },
    {
     "name": "stderr",
     "output_type": "stream",
     "text": [
      "\n"
     ]
    }
   ],
   "source": [
    "dataset = CIFAR10()\n",
    "train_loader, test_loader = dataset.get_dataloader()"
   ]
  },
  {
   "cell_type": "code",
   "execution_count": null,
   "metadata": {
    "collapsed": false
   },
   "outputs": [],
   "source": [
    "#for UnstructuredL1normPrune\n",
    "\n",
    "model = AlexNet()\n",
    "criterion = nn.CrossEntropyLoss()\n",
    "optimizer = torch.optim.Adam(model.parameters(), lr=0.001)\n",
    "\n",
    "trainer = UnstructuredL1normPrune(model, 5, train_loader, criterion, optimizer, 0.5)\n",
    "\n",
    "#train and prune the model and return both the original and pruned model\n",
    "original_model, pruned_model = trainer.train_prune_retrain()\n"
   ]
  },
  {
   "cell_type": "code",
   "execution_count": null,
   "metadata": {
    "collapsed": false
   },
<<<<<<< HEAD
   "outputs": [
    {
     "data": {
      "application/vnd.jupyter.widget-view+json": {
       "model_id": "d61658071e61424d9b5a1de0f090d3e1",
       "version_major": 2,
       "version_minor": 0
      },
      "text/plain": [
       "  0%|          | 0/5 [00:00<?, ?it/s]"
      ]
     },
     "metadata": {},
     "output_type": "display_data"
    },
    {
     "name": "stdout",
     "output_type": "stream",
     "text": [
      "Epoch: 1 | train_loss: 4.3339 | \n",
      "Epoch: 2 | train_loss: 2.9266 | \n",
      "Epoch: 3 | train_loss: 2.3756 | \n",
      "Epoch: 4 | train_loss: 2.0144 | \n",
      "Epoch: 5 | train_loss: 1.7315 | \n",
      "Training is done\n",
      "Pruning is done\n"
     ]
    }
   ],
=======
   "outputs": [],
>>>>>>> a2bf833f06835b5fdfcc3efb1e5347798c0cd8ef
   "source": [
    "print(\"Accuracy of original model : \", accuracy(original_model, test_loader))\n",
    "print(\"Accuracy of pruned model : \", accuracy(pruned_model, test_loader))\n",
    "print(\"Number of non zero weights in original model : \", non_zero_weights(original_model))\n",
    "print(\"Number of non zero weights in pruned model : \", non_zero_weights(pruned_model))\n",
    "print(\"Compression Ratio : \", compression_ratio(original_model, pruned_model))"
   ]
  },
  {
   "cell_type": "code",
   "execution_count": null,
   "metadata": {
    "collapsed": false
   },
   "outputs": [],
   "source": [
    "#for Decay pruning with reverse=False\n",
    "model = AlexNet()\n",
    "criterion = nn.CrossEntropyLoss()\n",
    "optimizer = torch.optim.Adam(model.parameters(), lr=0.001)\n",
    "\n",
    "trainer = DecayPrune(model, 5, train_loader, criterion, optimizer, 0.8, 0.05,\n",
    "                     False)  #init pruning rate = 0.5, decay = 0.1\n",
    "\n",
    "#train and prune the model and return both the original and pruned model\n",
    "original_model, pruned_model = trainer.train_prune_retrain()"
   ]
  },
  {
   "cell_type": "code",
   "execution_count": null,
   "metadata": {
    "collapsed": false
   },
   "outputs": [],
   "source": [
    "print(\"Accuracy of original model : \", accuracy(original_model, test_loader))\n",
    "print(\"Accuracy of pruned model : \", accuracy(pruned_model, test_loader))\n",
    "print(\"Number of non zero weights in original model : \", non_zero_weights(original_model))\n",
    "print(\"Number of non zero weights in pruned model : \", non_zero_weights(pruned_model))\n",
    "print(\"Compression Ratio : \", compression_ratio(original_model, pruned_model))"
   ]
  },
  {
   "cell_type": "code",
   "execution_count": null,
   "metadata": {
    "collapsed": false
   },
   "outputs": [],
   "source": [
    "#for Decay pruning with reverse=True\n",
    "model = AlexNet()\n",
    "criterion = nn.CrossEntropyLoss()\n",
    "optimizer = torch.optim.Adam(model.parameters(), lr=0.001)\n",
    "\n",
    "trainer = DecayPrune(model, 5, train_loader, criterion, optimizer, 0.8, 0.05,\n",
    "                     True)  #init pruning rate = 0.5, decay = 0.1\n",
    "\n",
    "#train and prune the model and return both the original and pruned model\n",
    "original_model, pruned_model = trainer.train_prune_retrain()"
   ]
  },
  {
   "cell_type": "code",
   "execution_count": null,
   "metadata": {
    "collapsed": false
   },
   "outputs": [],
   "source": [
    "print(\"Accuracy of original model : \", accuracy(original_model, test_loader))\n",
    "print(\"Accuracy of pruned model : \", accuracy(pruned_model, test_loader))\n",
    "print(\"Number of non zero weights in original model : \", non_zero_weights(original_model))\n",
    "print(\"Number of non zero weights in pruned model : \", non_zero_weights(pruned_model))\n",
    "print(\"Compression Ratio : \", compression_ratio(original_model, pruned_model))"
   ]
  }
 ],
 "metadata": {
  "kernelspec": {
   "display_name": "Python 3 (ipykernel)",
   "language": "python",
   "name": "python3"
  },
  "language_info": {
   "codemirror_mode": {
    "name": "ipython",
    "version": 3
   },
   "file_extension": ".py",
   "mimetype": "text/x-python",
   "name": "python",
   "nbconvert_exporter": "python",
   "pygments_lexer": "ipython3",
<<<<<<< HEAD
   "version": "3.10.11"
=======
   "version": "3.8.10"
>>>>>>> a2bf833f06835b5fdfcc3efb1e5347798c0cd8ef
  }
 },
 "nbformat": 4,
 "nbformat_minor": 4
}
