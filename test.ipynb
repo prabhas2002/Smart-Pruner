{
 "cells": [
  {
   "cell_type": "code",
   "execution_count": 7,
   "metadata": {
    "ExecuteTime": {
     "end_time": "2024-03-11T08:44:38.691809Z",
     "start_time": "2024-03-11T08:44:38.686405Z"
    }
   },
   "outputs": [],
   "source": [
    "import torch.nn as nn\n",
    "\n",
    "from datasets import *\n",
    "from evaluation import *\n",
    "from models import *\n",
    "from pruning.unstructured import *"
   ]
  },
  {
   "cell_type": "code",
   "execution_count": 8,
   "metadata": {
    "ExecuteTime": {
     "end_time": "2024-03-11T08:44:39.731672Z",
     "start_time": "2024-03-11T08:44:38.729713Z"
    }
   },
   "outputs": [],
   "source": [
    "lenet = Lenet()\n",
    "mnist = MNIST()\n",
    "train_loader, test_loader = mnist.get_dataloader()"
   ]
  },
  {
   "cell_type": "code",
   "execution_count": 9,
   "metadata": {
    "ExecuteTime": {
     "end_time": "2024-03-11T08:44:39.737789Z",
     "start_time": "2024-03-11T08:44:39.733511Z"
    }
   },
   "outputs": [],
   "source": [
    "criterion = nn.CrossEntropyLoss()\n",
    "optimizer = torch.optim.Adam(lenet.parameters(), lr=0.001)"
   ]
  },
  {
   "cell_type": "code",
   "execution_count": 11,
   "metadata": {},
   "outputs": [
    {
     "data": {
      "application/vnd.jupyter.widget-view+json": {
       "model_id": "afece227b35846458e12236e5ed6d11a",
       "version_major": 2,
       "version_minor": 0
      },
      "text/plain": [
       "  0%|          | 0/5 [00:00<?, ?it/s]"
      ]
     },
     "metadata": {},
     "output_type": "display_data"
    },
    {
     "name": "stdout",
     "output_type": "stream",
     "text": [
      "Epoch: 1 | train_loss: 1.9617 | \n",
      "Epoch: 2 | train_loss: 1.5355 | \n",
      "Epoch: 3 | train_loss: 1.2733 | \n",
      "Epoch: 4 | train_loss: 0.9565 | \n",
      "Epoch: 5 | train_loss: 0.7947 | \n"
     ]
    },
    {
     "data": {
      "text/plain": [
       "Lenet(\n",
       "  (conv1): Conv2d(1, 6, kernel_size=(5, 5), stride=(1, 1))\n",
       "  (conv2): Conv2d(6, 16, kernel_size=(5, 5), stride=(1, 1))\n",
       "  (fc1): Linear(in_features=256, out_features=120, bias=True)\n",
       "  (fc2): Linear(in_features=120, out_features=84, bias=True)\n",
       "  (fc3): Linear(in_features=84, out_features=10, bias=True)\n",
       ")"
      ]
     },
     "execution_count": 11,
     "metadata": {},
     "output_type": "execute_result"
    }
   ],
   "source": [
    "#for only training of any model (pruned or unpruned)\n",
    "trainer=Trainer(lenet, 5, train_loader, criterion, optimizer)\n",
    "trainer.train()"
   ]
  },
  {
   "cell_type": "code",
   "execution_count": 12,
   "metadata": {
    "ExecuteTime": {
     "end_time": "2024-03-11T08:44:46.438005Z",
     "start_time": "2024-03-11T08:44:39.739719Z"
    }
   },
   "outputs": [
    {
     "data": {
      "application/vnd.jupyter.widget-view+json": {
       "model_id": "70a63773e6f34c189ef3eea6ac5bf17c",
       "version_major": 2,
       "version_minor": 0
      },
      "text/plain": [
       "  0%|          | 0/5 [00:00<?, ?it/s]"
      ]
     },
     "metadata": {},
     "output_type": "display_data"
    },
    {
     "name": "stdout",
     "output_type": "stream",
     "text": [
      "Epoch: 1 | train_loss: 0.5576 | \n",
      "Epoch: 2 | train_loss: 0.2438 | \n",
      "Epoch: 3 | train_loss: -0.0241 | \n",
      "Epoch: 4 | train_loss: -0.2780 | \n",
      "Epoch: 5 | train_loss: -0.4594 | \n",
      "Training is done\n",
      "Pruning is done\n"
     ]
    }
   ],
   "source": [
    "trainer = UnstructuredL1normPrune(lenet, 5, train_loader, criterion, optimizer, 0.9)\n",
    "#train and prune the model and return both the original and pruned model\n",
    "model, pruned_model = trainer.train_prune_retrain()"
   ]
  },
  {
   "cell_type": "code",
   "execution_count": 13,
   "metadata": {
    "ExecuteTime": {
     "end_time": "2024-03-11T08:44:48.194293Z",
     "start_time": "2024-03-11T08:44:46.440478Z"
    }
   },
   "outputs": [
    {
     "name": "stdout",
     "output_type": "stream",
     "text": [
      "[0.9991]\n",
      "[0.1661]\n"
     ]
    }
   ],
   "source": [
    "print(accuracy(model, test_loader))\n",
    "print(accuracy(pruned_model, test_loader))"
   ]
  },
  {
   "cell_type": "code",
   "execution_count": 14,
   "metadata": {
    "ExecuteTime": {
     "end_time": "2024-03-11T08:44:48.203163Z",
     "start_time": "2024-03-11T08:44:48.195791Z"
    }
   },
   "outputs": [
    {
     "name": "stdout",
     "output_type": "stream",
     "text": [
      "44190\n",
      "4419\n",
      "0.1\n"
     ]
    }
   ],
   "source": [
    "print(non_zero_weights(model))\n",
    "print(non_zero_weights(pruned_model))\n",
    "print(compression_ratio(model, pruned_model))"
   ]
  },
  {
   "cell_type": "code",
   "execution_count": null,
   "metadata": {},
   "outputs": [],
   "source": []
  }
 ],
 "metadata": {
  "kernelspec": {
   "display_name": "Python 3 (ipykernel)",
   "language": "python",
   "name": "python3"
  },
  "language_info": {
   "codemirror_mode": {
    "name": "ipython",
    "version": 3
   },
   "file_extension": ".py",
   "mimetype": "text/x-python",
   "name": "python",
   "nbconvert_exporter": "python",
   "pygments_lexer": "ipython3",
   "version": "3.10.12"
  }
 },
 "nbformat": 4,
 "nbformat_minor": 4
}
