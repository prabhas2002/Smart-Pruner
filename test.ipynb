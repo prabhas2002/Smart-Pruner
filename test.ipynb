{
 "cells": [
  {
   "cell_type": "code",
   "execution_count": 1,
   "metadata": {
    "ExecuteTime": {
     "end_time": "2024-03-11T08:44:38.691809Z",
     "start_time": "2024-03-11T08:44:38.686405Z"
    }
   },
   "outputs": [
    {
     "ename": "ModuleNotFoundError",
     "evalue": "No module named 'evaluation'",
     "output_type": "error",
     "traceback": [
      "\u001b[0;31m---------------------------------------------------------------------------\u001b[0m",
      "\u001b[0;31mModuleNotFoundError\u001b[0m                       Traceback (most recent call last)",
      "Cell \u001b[0;32mIn[1], line 4\u001b[0m\n\u001b[1;32m      1\u001b[0m \u001b[38;5;28;01mimport\u001b[39;00m \u001b[38;5;21;01mtorch\u001b[39;00m\u001b[38;5;21;01m.\u001b[39;00m\u001b[38;5;21;01mnn\u001b[39;00m \u001b[38;5;28;01mas\u001b[39;00m \u001b[38;5;21;01mnn\u001b[39;00m\n\u001b[1;32m      3\u001b[0m \u001b[38;5;28;01mfrom\u001b[39;00m \u001b[38;5;21;01mdatasets\u001b[39;00m \u001b[38;5;28;01mimport\u001b[39;00m \u001b[38;5;241m*\u001b[39m\n\u001b[0;32m----> 4\u001b[0m \u001b[38;5;28;01mfrom\u001b[39;00m \u001b[38;5;21;01mevaluation\u001b[39;00m \u001b[38;5;28;01mimport\u001b[39;00m \u001b[38;5;241m*\u001b[39m\n\u001b[1;32m      5\u001b[0m \u001b[38;5;28;01mfrom\u001b[39;00m \u001b[38;5;21;01mmodels\u001b[39;00m \u001b[38;5;28;01mimport\u001b[39;00m \u001b[38;5;241m*\u001b[39m\n\u001b[1;32m      6\u001b[0m \u001b[38;5;28;01mfrom\u001b[39;00m \u001b[38;5;21;01mpruning\u001b[39;00m\u001b[38;5;21;01m.\u001b[39;00m\u001b[38;5;21;01munstructured\u001b[39;00m \u001b[38;5;28;01mimport\u001b[39;00m \u001b[38;5;241m*\u001b[39m\n",
      "\u001b[0;31mModuleNotFoundError\u001b[0m: No module named 'evaluation'"
     ]
    }
   ],
   "source": [
    "import torch.nn as nn\n",
    "\n",
    "from datasets import *\n",
    "from evaluation import *\n",
    "from models import *\n",
    "from pruning.unstructured import *\n",
    "from pruning.structured import *"
   ]
  },
  {
   "cell_type": "code",
   "execution_count": 2,
   "metadata": {
    "ExecuteTime": {
     "end_time": "2024-03-11T08:44:39.731672Z",
     "start_time": "2024-03-11T08:44:38.729713Z"
    }
   },
   "outputs": [],
   "source": [
    "model = Lenet()\n",
    "mnist = MNIST()\n",
    "train_loader, test_loader = mnist.get_dataloader()"
   ]
  },
  {
   "cell_type": "code",
   "execution_count": 3,
   "metadata": {
    "ExecuteTime": {
     "end_time": "2024-03-11T08:44:39.737789Z",
     "start_time": "2024-03-11T08:44:39.733511Z"
    }
   },
   "outputs": [],
   "source": [
    "criterion = nn.CrossEntropyLoss()\n",
    "optimizer = torch.optim.Adam(lenet.parameters(), lr=0.01)"
   ]
  },
  {
   "cell_type": "code",
   "execution_count": 4,
   "metadata": {},
   "outputs": [
    {
     "data": {
      "application/vnd.jupyter.widget-view+json": {
       "model_id": "8b6249beb2e040f49c719a78c4eb2a3e",
       "version_major": 2,
       "version_minor": 0
      },
      "text/plain": [
       "  0%|          | 0/5 [00:00<?, ?it/s]"
      ]
     },
     "metadata": {},
     "output_type": "display_data"
    },
    {
     "name": "stdout",
     "output_type": "stream",
     "text": [
      "Epoch: 1 | train_loss: 3.5230 | \n",
      "Epoch: 2 | train_loss: 2.3864 | \n",
      "Epoch: 3 | train_loss: 1.8727 | \n",
      "Epoch: 4 | train_loss: 1.6373 | \n",
      "Epoch: 5 | train_loss: 1.5521 | \n"
     ]
    },
    {
     "data": {
      "text/plain": [
       "Lenet(\n",
       "  (conv1): Conv2d(1, 6, kernel_size=(5, 5), stride=(1, 1))\n",
       "  (conv2): Conv2d(6, 16, kernel_size=(5, 5), stride=(1, 1))\n",
       "  (fc1): Linear(in_features=256, out_features=120, bias=True)\n",
       "  (fc2): Linear(in_features=120, out_features=84, bias=True)\n",
       "  (fc3): Linear(in_features=84, out_features=10, bias=True)\n",
       ")"
      ]
     },
     "execution_count": 4,
     "metadata": {},
     "output_type": "execute_result"
    }
   ],
   "source": [
    "#for only training of any model (pruned or unpruned)\n",
    "trainer=Trainer(model, 5, train_loader, criterion, optimizer)\n",
    "trainer.train()"
   ]
  },
  {
   "cell_type": "code",
   "execution_count": 6,
   "metadata": {
    "ExecuteTime": {
     "end_time": "2024-03-11T08:44:46.438005Z",
     "start_time": "2024-03-11T08:44:39.739719Z"
    }
   },
   "outputs": [],
   "source": [
    "criterion = nn.CrossEntropyLoss()\n",
    "optimizer = torch.optim.Adam(model.parameters(), lr=0.01)\n",
    "trainer = two_to_four_prune(model, 5, train_loader, criterion, optimizer)\n",
    "#train and prune the model and return both the original and pruned model\n",
    "pruned_model = trainer.prune_model()"
   ]
  },
  {
   "cell_type": "code",
   "execution_count": 7,
   "metadata": {
    "ExecuteTime": {
     "end_time": "2024-03-11T08:44:48.194293Z",
     "start_time": "2024-03-11T08:44:46.440478Z"
    }
   },
   "outputs": [
    {
     "name": "stdout",
     "output_type": "stream",
     "text": [
      "[0.986]\n",
      "[0.6005]\n",
      "44190\n",
      "22350\n",
      "0.5057705363204344\n"
     ]
    }
   ],
   "source": [
    "print(accuracy(model, test_loader))\n",
    "print(accuracy(pruned_model, test_loader))\n",
    "print(non_zero_weights(model))\n",
    "print(non_zero_weights(pruned_model))\n",
    "print(compression_ratio(model, pruned_model))"
   ]
  },
  {
   "cell_type": "code",
   "execution_count": 8,
   "metadata": {},
   "outputs": [
    {
     "data": {
      "application/vnd.jupyter.widget-view+json": {
       "model_id": "727c15c69ed84156a82c9f431a630737",
       "version_major": 2,
       "version_minor": 0
      },
      "text/plain": [
       "  0%|          | 0/5 [00:00<?, ?it/s]"
      ]
     },
     "metadata": {},
     "output_type": "display_data"
    },
    {
     "name": "stdout",
     "output_type": "stream",
     "text": [
      "Epoch: 1 | train_loss: 3.4671 | \n",
      "Epoch: 2 | train_loss: 2.3508 | \n",
      "Epoch: 3 | train_loss: 1.8642 | \n",
      "Epoch: 4 | train_loss: 1.7090 | \n",
      "Epoch: 5 | train_loss: 1.5280 | \n",
      "Training is done\n",
      "Pruning is done\n"
     ]
    }
   ],
   "source": [
    "lenet = Lenet()\n",
    "criterion = nn.CrossEntropyLoss()\n",
    "optimizer = torch.optim.Adam(lenet.parameters(), lr=0.01)\n",
    "trainer = UnstructuredL1normPrune(lenet, 5, train_loader, criterion, optimizer, 0.9)\n",
    "#train and prune the model and return both the original and pruned model\n",
    "decay_model, decay_pruned_model = trainer.train_prune_retrain()"
   ]
  },
  {
   "cell_type": "code",
   "execution_count": 7,
   "metadata": {
    "ExecuteTime": {
     "end_time": "2024-03-11T08:44:48.194293Z",
     "start_time": "2024-03-11T08:44:46.440478Z"
    }
   },
   "outputs": [
    {
     "name": "stdout",
     "output_type": "stream",
     "text": [
      "[0.9876]\n",
      "[0.3187]\n",
      "44190\n",
      "14163\n",
      "0.32050237610319077\n"
     ]
    }
   ],
   "source": [
    "print(accuracy(model, test_loader))\n",
    "print(accuracy(pruned_model, test_loader))\n",
    "print(non_zero_weights(model))\n",
    "print(non_zero_weights(pruned_model))\n",
    "print(compression_ratio(model, pruned_model))"
   ]
  },
  {
   "cell_type": "code",
   "execution_count": 13,
   "metadata": {},
   "outputs": [
    {
     "data": {
      "application/vnd.jupyter.widget-view+json": {
       "model_id": "e445ed4c5d9b461793e8c031576757d1",
       "version_major": 2,
       "version_minor": 0
      },
      "text/plain": [
       "  0%|          | 0/5 [00:00<?, ?it/s]"
      ]
     },
     "metadata": {},
     "output_type": "display_data"
    },
    {
     "name": "stdout",
     "output_type": "stream",
     "text": [
      "Epoch: 1 | train_loss: 3.5038 | \n",
      "Epoch: 2 | train_loss: 2.3397 | \n",
      "Epoch: 3 | train_loss: 1.8304 | \n",
      "Epoch: 4 | train_loss: 1.7377 | \n",
      "Epoch: 5 | train_loss: 1.5686 | \n",
      "Training is done\n",
      "Pruning is done\n"
     ]
    }
   ],
   "source": [
    "lenet = Lenet()\n",
    "criterion = nn.CrossEntropyLoss()\n",
    "optimizer = torch.optim.Adam(lenet.parameters(), lr=0.01)\n",
    "trainer = DecayPrune(lenet, 5, train_loader, criterion, optimizer, 0.9,0.2,False) #init pruning rate = 0.5, decay = 0.1\n",
    "#train and prune the model and return both the original and pruned model\n",
    "decay_model, decay_pruned_model = trainer.train_prune_retrain()"
   ]
  },
  {
   "cell_type": "code",
   "execution_count": 14,
   "metadata": {},
   "outputs": [
    {
     "name": "stdout",
     "output_type": "stream",
     "text": [
      "[0.9806]\n",
      "[0.491]\n",
      "44190\n",
      "14163\n",
      "0.32050237610319077\n"
     ]
    }
   ],
   "source": [
    "print(accuracy(decay_model, test_loader))\n",
    "print(accuracy(decay_pruned_model, test_loader))\n",
    "print(non_zero_weights(decay_model))\n",
    "print(non_zero_weights(decay_pruned_model))\n",
    "print(compression_ratio(decay_model, decay_pruned_model))"
   ]
  },
  {
   "cell_type": "code",
   "execution_count": 15,
   "metadata": {},
   "outputs": [
    {
     "data": {
      "application/vnd.jupyter.widget-view+json": {
       "model_id": "81261741e6ff488ca34cd7e2da3d94dd",
       "version_major": 2,
       "version_minor": 0
      },
      "text/plain": [
       "  0%|          | 0/5 [00:00<?, ?it/s]"
      ]
     },
     "metadata": {},
     "output_type": "display_data"
    },
    {
     "name": "stdout",
     "output_type": "stream",
     "text": [
      "Epoch: 1 | train_loss: 3.4717 | \n",
      "Epoch: 2 | train_loss: 2.3084 | \n",
      "Epoch: 3 | train_loss: 1.9085 | \n",
      "Epoch: 4 | train_loss: 1.5701 | \n",
      "Epoch: 5 | train_loss: 1.2904 | \n",
      "Training is done\n",
      "Pruning is done\n"
     ]
    }
   ],
   "source": [
    "#with reverse =True\n",
    "lenet = Lenet()\n",
    "criterion = nn.CrossEntropyLoss()\n",
    "optimizer = torch.optim.Adam(lenet.parameters(), lr=0.01)\n",
    "trainer = DecayPrune(lenet, 5, train_loader, criterion, optimizer, 0.9,0.2,True) #init pruning rate = 0.5, decay = 0.1\n",
    "#train and prune the model and return both the original and pruned model\n",
    "decay_model, decay_pruned_model = trainer.train_prune_retrain()"
   ]
  },
  {
   "cell_type": "code",
   "execution_count": 16,
   "metadata": {},
   "outputs": [
    {
     "name": "stdout",
     "output_type": "stream",
     "text": [
      "[0.9837]\n",
      "[0.7749]\n",
      "44190\n",
      "14163\n",
      "0.32050237610319077\n"
     ]
    }
   ],
   "source": [
    "print(accuracy(decay_model, test_loader))\n",
    "print(accuracy(decay_pruned_model, test_loader))\n",
    "print(non_zero_weights(decay_model))\n",
    "print(non_zero_weights(decay_pruned_model))\n",
    "print(compression_ratio(decay_model, decay_pruned_model))"
   ]
  },
  {
   "cell_type": "code",
   "execution_count": null,
   "metadata": {},
   "outputs": [],
   "source": []
  }
 ],
 "metadata": {
  "kernelspec": {
   "display_name": "Python 3 (ipykernel)",
   "language": "python",
   "name": "python3"
  },
  "language_info": {
   "codemirror_mode": {
    "name": "ipython",
    "version": 3
   },
   "file_extension": ".py",
   "mimetype": "text/x-python",
   "name": "python",
   "nbconvert_exporter": "python",
   "pygments_lexer": "ipython3",
   "version": "3.8.10"
  }
 },
 "nbformat": 4,
 "nbformat_minor": 4
}
