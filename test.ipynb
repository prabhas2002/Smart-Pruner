{
 "cells": [
  {
   "cell_type": "code",
   "execution_count": null,
   "metadata": {
    "ExecuteTime": {
     "end_time": "2024-03-11T08:44:38.691809Z",
     "start_time": "2024-03-11T08:44:38.686405Z"
    }
   },
   "outputs": [],
   "source": [
    "import torch.nn as nn\n",
    "\n",
    "from datasets import *\n",
    "from evaluation import *\n",
    "from models import *\n",
    "from pruning.unstructured import *\n",
    "from pruning.structured import *"
   ]
  },
  {
   "cell_type": "code",
   "execution_count": 2,
   "metadata": {
    "ExecuteTime": {
     "end_time": "2024-03-11T08:44:39.731672Z",
     "start_time": "2024-03-11T08:44:38.729713Z"
    }
   },
   "outputs": [
    {
     "name": "stdout",
     "output_type": "stream",
     "text": [
      "Files already downloaded and verified\n",
      "Files already downloaded and verified\n"
     ]
    }
   ],
   "source": [
    "dataset = CIFAR10()\n",
    "train_loader, test_loader = dataset.get_dataloader()"
   ]
  },
  {
   "cell_type": "code",
   "execution_count": 3,
   "metadata": {},
   "outputs": [
    {
     "name": "stderr",
     "output_type": "stream",
     "text": [
      " 20%|██        | 1/5 [00:47<03:09, 47.35s/it]"
     ]
    },
    {
     "name": "stdout",
     "output_type": "stream",
     "text": [
      "Epoch: 1 | train_loss: 6.4776 | \n"
     ]
    },
    {
     "name": "stderr",
     "output_type": "stream",
     "text": [
      " 40%|████      | 2/5 [01:19<01:55, 38.53s/it]"
     ]
    },
    {
     "name": "stdout",
     "output_type": "stream",
     "text": [
      "Epoch: 2 | train_loss: 6.1819 | \n"
     ]
    },
    {
     "name": "stderr",
     "output_type": "stream",
     "text": [
      " 60%|██████    | 3/5 [01:51<01:11, 35.63s/it]"
     ]
    },
    {
     "name": "stdout",
     "output_type": "stream",
     "text": [
      "Epoch: 3 | train_loss: 6.0183 | \n"
     ]
    },
    {
     "name": "stderr",
     "output_type": "stream",
     "text": [
      " 80%|████████  | 4/5 [02:23<00:34, 34.24s/it]"
     ]
    },
    {
     "name": "stdout",
     "output_type": "stream",
     "text": [
      "Epoch: 4 | train_loss: 5.8902 | \n"
     ]
    },
    {
     "name": "stderr",
     "output_type": "stream",
     "text": [
      "100%|██████████| 5/5 [02:56<00:00, 35.23s/it]"
     ]
    },
    {
     "name": "stdout",
     "output_type": "stream",
     "text": [
      "Epoch: 5 | train_loss: 5.7717 | \n",
      "Training is done\n",
      "Pruning is done\n"
     ]
    },
    {
     "name": "stderr",
     "output_type": "stream",
     "text": [
      "\n"
     ]
    }
   ],
   "source": [
    "#for UnstructuredL1normPrune\n",
    "\n",
    "model = AlexNet()\n",
    "criterion = nn.CrossEntropyLoss()\n",
    "optimizer = torch.optim.Adam(model.parameters(), lr=0.001)\n",
    "\n",
    "trainer = UnstructuredL1normPrune(model, 5, train_loader, criterion, optimizer, 0.5)\n",
    "\n",
    "#train and prune the model and return both the original and pruned model\n",
    "original_model, pruned_model = trainer.train_prune_retrain()\n"
   ]
  },
  {
   "cell_type": "code",
   "execution_count": 4,
   "metadata": {
    "ExecuteTime": {
     "end_time": "2024-03-11T08:44:48.194293Z",
     "start_time": "2024-03-11T08:44:46.440478Z"
    }
   },
   "outputs": [
    {
     "name": "stdout",
     "output_type": "stream",
     "text": [
      "Accuracy of original model :  [0.6778]\n",
      "Accuracy of pruned model :  [0.5124]\n",
      "Number of non zero weights in original model :  23262912\n",
      "Number of non zero weights in pruned model :  11631456\n",
      "Compression Ratio :  0.5\n"
     ]
    }
   ],
   "source": [
    "print(\"Accuracy of original model : \", accuracy(original_model, test_loader))\n",
    "print(\"Accuracy of pruned model : \",accuracy(pruned_model, test_loader))\n",
    "print(\"Number of non zero weights in original model : \",non_zero_weights(original_model))\n",
    "print(\"Number of non zero weights in pruned model : \",non_zero_weights(pruned_model))\n",
    "print(\"Compression Ratio : \",compression_ratio(original_model, pruned_model))"
   ]
  },
  {
   "cell_type": "code",
   "execution_count": 6,
   "metadata": {},
   "outputs": [
    {
     "name": "stderr",
     "output_type": "stream",
     "text": [
      " 20%|██        | 1/5 [00:32<02:09, 32.40s/it]"
     ]
    },
    {
     "name": "stdout",
     "output_type": "stream",
     "text": [
      "Epoch: 1 | train_loss: 6.4923 | \n"
     ]
    },
    {
     "name": "stderr",
     "output_type": "stream",
     "text": [
      " 40%|████      | 2/5 [01:05<01:37, 32.55s/it]"
     ]
    },
    {
     "name": "stdout",
     "output_type": "stream",
     "text": [
      "Epoch: 2 | train_loss: 6.2048 | \n"
     ]
    },
    {
     "name": "stderr",
     "output_type": "stream",
     "text": [
      " 60%|██████    | 3/5 [01:37<01:05, 32.59s/it]"
     ]
    },
    {
     "name": "stdout",
     "output_type": "stream",
     "text": [
      "Epoch: 3 | train_loss: 6.0384 | \n"
     ]
    },
    {
     "name": "stderr",
     "output_type": "stream",
     "text": [
      " 80%|████████  | 4/5 [02:10<00:32, 32.53s/it]"
     ]
    },
    {
     "name": "stdout",
     "output_type": "stream",
     "text": [
      "Epoch: 4 | train_loss: 5.9064 | \n"
     ]
    },
    {
     "name": "stderr",
     "output_type": "stream",
     "text": [
      "100%|██████████| 5/5 [02:42<00:00, 32.52s/it]"
     ]
    },
    {
     "name": "stdout",
     "output_type": "stream",
     "text": [
      "Epoch: 5 | train_loss: 5.7742 | \n",
      "Training is done\n",
      "Pruning is done\n"
     ]
    },
    {
     "name": "stderr",
     "output_type": "stream",
     "text": [
      "\n"
     ]
    }
   ],
   "source": [
    "#for Decay pruning with reverse=False\n",
    "model =AlexNet()\n",
    "criterion = nn.CrossEntropyLoss()\n",
    "optimizer = torch.optim.Adam(model.parameters(), lr=0.001)\n",
    "\n",
    "trainer = DecayPrune(model, 5, train_loader, criterion, optimizer, 0.8,0.05,False) #init pruning rate = 0.5, decay = 0.1\n",
    "\n",
    "#train and prune the model and return both the original and pruned model\n",
    "original_model, pruned_model = trainer.train_prune_retrain()"
   ]
  },
  {
   "cell_type": "code",
   "execution_count": 7,
   "metadata": {},
   "outputs": [
    {
     "name": "stdout",
     "output_type": "stream",
     "text": [
      "Accuracy of original model :  [0.691]\n",
      "Accuracy of pruned model :  [0.2405]\n",
      "Number of non zero weights in original model :  23262912\n",
      "Number of non zero weights in pruned model :  17489857\n",
      "Compression Ratio :  0.7518343791181431\n"
     ]
    }
   ],
   "source": [
    "print(\"Accuracy of original model : \", accuracy(original_model, test_loader))\n",
    "print(\"Accuracy of pruned model : \",accuracy(pruned_model, test_loader))\n",
    "print(\"Number of non zero weights in original model : \",non_zero_weights(original_model))\n",
    "print(\"Number of non zero weights in pruned model : \",non_zero_weights(pruned_model))\n",
    "print(\"Compression Ratio : \",compression_ratio(original_model, pruned_model))"
   ]
  },
  {
   "cell_type": "code",
   "execution_count": 8,
   "metadata": {},
   "outputs": [
    {
     "name": "stderr",
     "output_type": "stream",
     "text": [
      " 20%|██        | 1/5 [00:32<02:10, 32.69s/it]"
     ]
    },
    {
     "name": "stdout",
     "output_type": "stream",
     "text": [
      "Epoch: 1 | train_loss: 6.4777 | \n"
     ]
    },
    {
     "name": "stderr",
     "output_type": "stream",
     "text": [
      " 40%|████      | 2/5 [01:05<01:38, 32.67s/it]"
     ]
    },
    {
     "name": "stdout",
     "output_type": "stream",
     "text": [
      "Epoch: 2 | train_loss: 6.1907 | \n"
     ]
    },
    {
     "name": "stderr",
     "output_type": "stream",
     "text": [
      " 60%|██████    | 3/5 [01:38<01:05, 32.76s/it]"
     ]
    },
    {
     "name": "stdout",
     "output_type": "stream",
     "text": [
      "Epoch: 3 | train_loss: 6.0286 | \n"
     ]
    },
    {
     "name": "stderr",
     "output_type": "stream",
     "text": [
      " 80%|████████  | 4/5 [02:10<00:32, 32.66s/it]"
     ]
    },
    {
     "name": "stdout",
     "output_type": "stream",
     "text": [
      "Epoch: 4 | train_loss: 5.8960 | \n"
     ]
    },
    {
     "name": "stderr",
     "output_type": "stream",
     "text": [
      "100%|██████████| 5/5 [02:43<00:00, 32.63s/it]"
     ]
    },
    {
     "name": "stdout",
     "output_type": "stream",
     "text": [
      "Epoch: 5 | train_loss: 5.7756 | \n",
      "Training is done\n",
      "Pruning is done\n"
     ]
    },
    {
     "name": "stderr",
     "output_type": "stream",
     "text": [
      "\n"
     ]
    }
   ],
   "source": [
    "#for Decay pruning with reverse=True\n",
    "model =AlexNet()\n",
    "criterion = nn.CrossEntropyLoss()\n",
    "optimizer = torch.optim.Adam(model.parameters(), lr=0.001)\n",
    "\n",
    "trainer = DecayPrune(model, 5, train_loader, criterion, optimizer, 0.8,0.05,True) #init pruning rate = 0.5, decay = 0.1\n",
    "\n",
    "#train and prune the model and return both the original and pruned model\n",
    "original_model, pruned_model = trainer.train_prune_retrain()"
   ]
  },
  {
   "cell_type": "code",
   "execution_count": 9,
   "metadata": {},
   "outputs": [
    {
     "name": "stdout",
     "output_type": "stream",
     "text": [
      "Accuracy of original model :  [0.6752]\n",
      "Accuracy of pruned model :  [0.2034]\n",
      "Number of non zero weights in original model :  23262912\n",
      "Number of non zero weights in pruned model :  17489857\n",
      "Compression Ratio :  0.7518343791181431\n"
     ]
    }
   ],
   "source": [
    "print(\"Accuracy of original model : \", accuracy(original_model, test_loader))\n",
    "print(\"Accuracy of pruned model : \",accuracy(pruned_model, test_loader))\n",
    "print(\"Number of non zero weights in original model : \",non_zero_weights(original_model))\n",
    "print(\"Number of non zero weights in pruned model : \",non_zero_weights(pruned_model))\n",
    "print(\"Compression Ratio : \",compression_ratio(original_model, pruned_model))"
   ]
  }
 ],
 "metadata": {
  "kernelspec": {
   "display_name": "Python 3 (ipykernel)",
   "language": "python",
   "name": "python3"
  },
  "language_info": {
   "codemirror_mode": {
    "name": "ipython",
    "version": 3
   },
   "file_extension": ".py",
   "mimetype": "text/x-python",
   "name": "python",
   "nbconvert_exporter": "python",
   "pygments_lexer": "ipython3",
   "version": "3.8.10"
  }
 },
 "nbformat": 4,
 "nbformat_minor": 4
}
