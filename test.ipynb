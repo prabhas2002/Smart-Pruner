{
 "cells": [
  {
   "cell_type": "code",
   "execution_count": 1,
   "metadata": {
    "ExecuteTime": {
     "end_time": "2024-03-11T08:44:38.691809Z",
     "start_time": "2024-03-11T08:44:38.686405Z"
    }
   },
   "outputs": [
    {
     "name": "stderr",
     "output_type": "stream",
     "text": [
      "c:\\Users\\prabh\\AppData\\Local\\Programs\\Python\\Python310\\lib\\site-packages\\torchvision\\io\\image.py:13: UserWarning: Failed to load image Python extension: '[WinError 127] The specified procedure could not be found'If you don't plan on using image functionality from `torchvision.io`, you can ignore this warning. Otherwise, there might be something wrong with your environment. Did you have `libjpeg` or `libpng` installed before building `torchvision` from source?\n",
      "  warn(\n",
      "c:\\Users\\prabh\\AppData\\Local\\Programs\\Python\\Python310\\lib\\site-packages\\transformers\\utils\\generic.py:441: UserWarning: torch.utils._pytree._register_pytree_node is deprecated. Please use torch.utils._pytree.register_pytree_node instead.\n",
      "  _torch_pytree._register_pytree_node(\n"
     ]
    },
    {
     "name": "stdout",
     "output_type": "stream",
     "text": [
      "Importing C:\\Users\\prabh\\Smart-pruner-dev\\pruning\\unstructured\\L1norm.py\n",
      "Importing C:\\Users\\prabh\\Smart-pruner-dev\\pruning\\Train.py\n",
      "Importing C:\\Users\\prabh\\Smart-pruner-dev\\pruning\\unstructured\\random.py\n",
      "Importing C:\\Users\\prabh\\Smart-pruner-dev\\pruning\\structured\\decay_pruning.py\n",
      "Importing C:\\Users\\prabh\\Smart-pruner-dev\\pruning\\structured\\two_to_four.py\n",
      "Importing C:\\Users\\prabh\\Smart-pruner-dev\\pruning\\structured\\Thinet.py\n",
      "Importing C:\\Users\\prabh\\Smart-pruner-dev\\pruning\\structured\\Global_pruning.py\n",
      "Importing C:\\Users\\prabh\\Smart-pruner-dev\\pruning\\structured\\Ln_structured.py\n"
     ]
    }
   ],
   "source": [
    "import torch.nn as nn\n",
    "\n",
    "from datasets import *\n",
    "from evaluation import *\n",
    "from models import *\n",
    "from pruning.unstructured import *\n",
    "from pruning.structured import *"
   ]
  },
  {
   "cell_type": "code",
   "execution_count": 2,
   "metadata": {
    "collapsed": false
   },
   "outputs": [],
   "source": [
    "dataset = MNIST()\n",
    "train_loader, test_loader = dataset.get_dataloader()"
   ]
  },
  {
   "cell_type": "code",
   "execution_count": 3,
   "metadata": {},
   "outputs": [
    {
     "data": {
      "application/vnd.jupyter.widget-view+json": {
       "model_id": "1a3bdc6e161b4a148584b8b32a5c5620",
       "version_major": 2,
       "version_minor": 0
      },
      "text/plain": [
       "  0%|          | 0/10 [00:00<?, ?it/s]"
      ]
     },
     "metadata": {},
     "output_type": "display_data"
    },
    {
     "name": "stdout",
     "output_type": "stream",
     "text": [
      "Epoch: 1 | train_loss: 5.0089 | \n",
      "Epoch: 2 | train_loss: 3.5799 | \n",
      "Epoch: 3 | train_loss: 3.2495 | \n",
      "Epoch: 4 | train_loss: 2.9985 | \n",
      "Epoch: 5 | train_loss: 2.7616 | \n",
      "Epoch: 6 | train_loss: 2.5437 | \n",
      "Epoch: 7 | train_loss: 2.3832 | \n",
      "Epoch: 8 | train_loss: 2.2258 | \n",
      "Epoch: 9 | train_loss: 2.0089 | \n",
      "Epoch: 10 | train_loss: 1.8032 | \n",
      "Accuracy of original model :  [98.85]\n"
     ]
    }
   ],
   "source": [
    "#train model and return it\n",
    "model = Lenet()\n",
    "criterion = nn.CrossEntropyLoss()\n",
    "optimizer = torch.optim.Adam(model.parameters(), lr=0.001)\n",
    "model = Trainer(model, 10, train_loader, criterion, optimizer)\n",
    "original_model = model.train()\n",
    "print(\"Accuracy of original model : \", accuracy(original_model, test_loader))"
   ]
  },
  {
   "cell_type": "code",
   "execution_count": 4,
   "metadata": {
    "collapsed": false
   },
   "outputs": [],
   "source": [
    "#for UnstructuredL1normPrune\n",
    "\n",
    "# model = Lenet()\n",
    "criterion = nn.CrossEntropyLoss()\n",
    "optimizer = torch.optim.Adam(original_model.parameters(), lr=0.001)\n",
    "\n",
    "trainer = UnstructuredL1normPrune(original_model, 5, train_loader, criterion, optimizer, 0.5)\n",
    "\n",
    "#train and prune the model and return both the original and pruned model\n",
    "#original_model, pruned_model = trainer.train_prune_retrain()\n",
    "pruned_model = trainer.prune_model()"
   ]
  },
  {
   "cell_type": "code",
   "execution_count": 5,
   "metadata": {
    "collapsed": false
   },
   "outputs": [],
   "source": [
    "# print(\"Accuracy of original model : \", accuracy(original_model, test_loader))\n",
    "# print(\"Accuracy of pruned model : \", accuracy(pruned_model, test_loader))\n",
    "# print(\"Number of non zero weights in original model : \", non_zero_weights(original_model))\n",
    "# print(\"Number of non zero weights in pruned model : \", non_zero_weights(pruned_model))\n",
    "# print(\"Compression Ratio : \", compression_ratio(original_model, pruned_model))"
   ]
  },
  {
   "cell_type": "code",
   "execution_count": 6,
   "metadata": {},
   "outputs": [
    {
     "name": "stdout",
     "output_type": "stream",
     "text": [
      "Accuracy of pruned model :  [98.82]\n",
      "Number of non zero weights in original model :  44190\n",
      "Number of non zero weights in pruned model :  40224\n",
      "Compression Ratio :  1.0985978520286397\n",
      "Accuracy of pruned model :  [98.55]\n",
      "Number of non zero weights in original model :  44190\n",
      "Number of non zero weights in pruned model :  31386\n",
      "Compression Ratio :  1.4079525903268972\n",
      "Accuracy of pruned model :  [97.35]\n",
      "Number of non zero weights in original model :  44190\n",
      "Number of non zero weights in pruned model :  22548\n",
      "Compression Ratio :  1.9598190526875998\n",
      "Accuracy of pruned model :  [65.14]\n",
      "Number of non zero weights in original model :  44190\n",
      "Number of non zero weights in pruned model :  13710\n",
      "Compression Ratio :  3.2231947483588623\n",
      "Accuracy of pruned model :  [9.8]\n",
      "Number of non zero weights in original model :  44190\n",
      "Number of non zero weights in pruned model :  4872\n",
      "Compression Ratio :  9.070197044334975\n"
     ]
    },
    {
     "data": {
      "text/plain": [
       "[<matplotlib.lines.Line2D at 0x2431b013be0>]"
      ]
     },
     "execution_count": 6,
     "metadata": {},
     "output_type": "execute_result"
    },
    {
     "data": {
      "image/png": "[encoded data removed]",
      "text/plain": [
       "<Figure size 640x480 with 1 Axes>"
      ]
     },
     "metadata": {},
     "output_type": "display_data"
    }
   ],
   "source": [
    "li=[0.2,0.4,0.6,0.8,1.0]\n",
    "acc = []\n",
    "for i in li:\n",
    "    trainer = DecayPrune(original_model, 5, train_loader, criterion, optimizer,i,0.05,False)\n",
    "    pruned_model = trainer.prune_model()\n",
    "    accur = accuracy(pruned_model, test_loader)\n",
    "    acc.append(accur)\n",
    "    print(\"Accuracy of pruned model : \", accur)\n",
    "    print(\"Number of non zero weights in original model : \", non_zero_weights(original_model))\n",
    "    print(\"Number of non zero weights in pruned model : \", non_zero_weights(pruned_model))\n",
    "    print(\"Compression Ratio : \", compression_ratio(original_model, pruned_model))\n",
    "\n",
    "import matplotlib.pyplot as plt\n",
    "plt.plot(li, acc)"
   ]
  },
  {
   "cell_type": "code",
   "execution_count": 9,
   "metadata": {},
   "outputs": [
    {
     "name": "stdout",
     "output_type": "stream",
     "text": [
      "Accuracy of pruned model :  [98.86]\n",
      "Number of non zero weights in original model :  44190\n",
      "Number of non zero weights in pruned model :  39318\n",
      "Compression Ratio :  1.1239127117350831\n",
      "Accuracy of pruned model :  [98.79]\n",
      "Number of non zero weights in original model :  44190\n",
      "Number of non zero weights in pruned model :  30480\n",
      "Compression Ratio :  1.4498031496062993\n",
      "Accuracy of pruned model :  [98.26]\n",
      "Number of non zero weights in original model :  44190\n",
      "Number of non zero weights in pruned model :  21642\n",
      "Compression Ratio :  2.0418630440809538\n",
      "Accuracy of pruned model :  [93.52]\n",
      "Number of non zero weights in original model :  44190\n",
      "Number of non zero weights in pruned model :  12804\n",
      "Compression Ratio :  3.451265229615745\n",
      "Accuracy of pruned model :  [9.82]\n",
      "Number of non zero weights in original model :  44190\n",
      "Number of non zero weights in pruned model :  3966\n",
      "Compression Ratio :  11.142208774583963\n"
     ]
    },
    {
     "data": {
      "text/plain": [
       "[<matplotlib.lines.Line2D at 0x2431bc98b20>]"
      ]
     },
     "execution_count": 9,
     "metadata": {},
     "output_type": "execute_result"
    },
    {
     "data": {
      "image/png": "[encoded data removed]",
      "text/plain": [
       "<Figure size 640x480 with 1 Axes>"
      ]
     },
     "metadata": {},
     "output_type": "display_data"
    }
   ],
   "source": [
    "li=[0.2,0.4,0.6,0.8,1.0]\n",
    "acc = []\n",
    "for i in li:\n",
    "    trainer = DecayPrune(original_model, 5, train_loader, criterion, optimizer,i,0.05,True)\n",
    "    pruned_model = trainer.prune_model()\n",
    "    accur = accuracy(pruned_model, test_loader)\n",
    "    acc.append(accur)\n",
    "    print(\"Accuracy of pruned model : \", accur)\n",
    "    print(\"Number of non zero weights in original model : \", non_zero_weights(original_model))\n",
    "    print(\"Number of non zero weights in pruned model : \", non_zero_weights(pruned_model))\n",
    "    print(\"Compression Ratio : \", compression_ratio(original_model, pruned_model))\n",
    "\n",
    "import matplotlib.pyplot as plt\n",
    "plt.plot(li, acc)"
   ]
  },
  {
   "cell_type": "code",
   "execution_count": null,
   "metadata": {
    "collapsed": false
   },
   "outputs": [],
   "source": [
    "#for Decay pruning with reverse=False\n",
    "#model = Lenet()\n",
    "criterion = nn.CrossEntropyLoss()\n",
    "optimizer = torch.optim.Adam(original_model.parameters(), lr=0.001)\n",
    "\n",
    "trainer = DecayPrune(original_model, 5, train_loader, criterion, optimizer, 0.8, 0.05,\n",
    "                     False)  #init pruning rate = 0.5, decay = 0.1\n",
    "\n",
    "#train and prune the model and return both the original and pruned model\n",
    "#original_model, pruned_model = trainer.train_prune_retrain()\n",
    "pruned_model = trainer.prune_model()"
   ]
  },
  {
   "cell_type": "code",
   "execution_count": 8,
   "metadata": {
    "collapsed": false
   },
   "outputs": [
    {
     "name": "stdout",
     "output_type": "stream",
     "text": [
      "Accuracy of original model :  [98.85]\n"
     ]
    },
    {
     "ename": "KeyboardInterrupt",
     "evalue": "",
     "output_type": "error",
     "traceback": [
      "\u001b[1;31m---------------------------------------------------------------------------\u001b[0m",
      "\u001b[1;31mKeyboardInterrupt\u001b[0m                         Traceback (most recent call last)",
      "Cell \u001b[1;32mIn[8], line 2\u001b[0m\n\u001b[0;32m      1\u001b[0m \u001b[38;5;28mprint\u001b[39m(\u001b[38;5;124m\"\u001b[39m\u001b[38;5;124mAccuracy of original model : \u001b[39m\u001b[38;5;124m\"\u001b[39m, accuracy(original_model, test_loader))\n\u001b[1;32m----> 2\u001b[0m \u001b[38;5;28mprint\u001b[39m(\u001b[38;5;124m\"\u001b[39m\u001b[38;5;124mAccuracy of pruned model : \u001b[39m\u001b[38;5;124m\"\u001b[39m, \u001b[43maccuracy\u001b[49m\u001b[43m(\u001b[49m\u001b[43mpruned_model\u001b[49m\u001b[43m,\u001b[49m\u001b[43m \u001b[49m\u001b[43mtest_loader\u001b[49m\u001b[43m)\u001b[49m)\n\u001b[0;32m      3\u001b[0m \u001b[38;5;28mprint\u001b[39m(\u001b[38;5;124m\"\u001b[39m\u001b[38;5;124mNumber of non zero weights in original model : \u001b[39m\u001b[38;5;124m\"\u001b[39m, non_zero_weights(original_model))\n\u001b[0;32m      4\u001b[0m \u001b[38;5;28mprint\u001b[39m(\u001b[38;5;124m\"\u001b[39m\u001b[38;5;124mNumber of non zero weights in pruned model : \u001b[39m\u001b[38;5;124m\"\u001b[39m, non_zero_weights(pruned_model))\n",
      "File \u001b[1;32mc:\\Users\\prabh\\Smart-pruner-dev\\evaluation\\evals.py:62\u001b[0m, in \u001b[0;36maccuracy\u001b[1;34m(model, dataloader, topk)\u001b[0m\n\u001b[0;32m     60\u001b[0m accs \u001b[38;5;241m=\u001b[39m np\u001b[38;5;241m.\u001b[39mzeros(\u001b[38;5;28mlen\u001b[39m(topk))\n\u001b[0;32m     61\u001b[0m \u001b[38;5;28;01mwith\u001b[39;00m torch\u001b[38;5;241m.\u001b[39mno_grad():\n\u001b[1;32m---> 62\u001b[0m     \u001b[38;5;28;01mfor\u001b[39;00m i, (\u001b[38;5;28minput\u001b[39m, target) \u001b[38;5;129;01min\u001b[39;00m \u001b[38;5;28menumerate\u001b[39m(dataloader):\n\u001b[0;32m     63\u001b[0m         \u001b[38;5;28minput\u001b[39m \u001b[38;5;241m=\u001b[39m \u001b[38;5;28minput\u001b[39m\u001b[38;5;241m.\u001b[39mto(device)\n\u001b[0;32m     64\u001b[0m         target \u001b[38;5;241m=\u001b[39m target\u001b[38;5;241m.\u001b[39mto(device)\n",
      "File \u001b[1;32mc:\\Users\\prabh\\AppData\\Local\\Programs\\Python\\Python310\\lib\\site-packages\\torch\\utils\\data\\dataloader.py:631\u001b[0m, in \u001b[0;36m_BaseDataLoaderIter.__next__\u001b[1;34m(self)\u001b[0m\n\u001b[0;32m    628\u001b[0m \u001b[38;5;28;01mif\u001b[39;00m \u001b[38;5;28mself\u001b[39m\u001b[38;5;241m.\u001b[39m_sampler_iter \u001b[38;5;129;01mis\u001b[39;00m \u001b[38;5;28;01mNone\u001b[39;00m:\n\u001b[0;32m    629\u001b[0m     \u001b[38;5;66;03m# TODO(https://github.com/pytorch/pytorch/issues/76750)\u001b[39;00m\n\u001b[0;32m    630\u001b[0m     \u001b[38;5;28mself\u001b[39m\u001b[38;5;241m.\u001b[39m_reset()  \u001b[38;5;66;03m# type: ignore[call-arg]\u001b[39;00m\n\u001b[1;32m--> 631\u001b[0m data \u001b[38;5;241m=\u001b[39m \u001b[38;5;28;43mself\u001b[39;49m\u001b[38;5;241;43m.\u001b[39;49m\u001b[43m_next_data\u001b[49m\u001b[43m(\u001b[49m\u001b[43m)\u001b[49m\n\u001b[0;32m    632\u001b[0m \u001b[38;5;28mself\u001b[39m\u001b[38;5;241m.\u001b[39m_num_yielded \u001b[38;5;241m+\u001b[39m\u001b[38;5;241m=\u001b[39m \u001b[38;5;241m1\u001b[39m\n\u001b[0;32m    633\u001b[0m \u001b[38;5;28;01mif\u001b[39;00m \u001b[38;5;28mself\u001b[39m\u001b[38;5;241m.\u001b[39m_dataset_kind \u001b[38;5;241m==\u001b[39m _DatasetKind\u001b[38;5;241m.\u001b[39mIterable \u001b[38;5;129;01mand\u001b[39;00m \\\n\u001b[0;32m    634\u001b[0m         \u001b[38;5;28mself\u001b[39m\u001b[38;5;241m.\u001b[39m_IterableDataset_len_called \u001b[38;5;129;01mis\u001b[39;00m \u001b[38;5;129;01mnot\u001b[39;00m \u001b[38;5;28;01mNone\u001b[39;00m \u001b[38;5;129;01mand\u001b[39;00m \\\n\u001b[0;32m    635\u001b[0m         \u001b[38;5;28mself\u001b[39m\u001b[38;5;241m.\u001b[39m_num_yielded \u001b[38;5;241m>\u001b[39m \u001b[38;5;28mself\u001b[39m\u001b[38;5;241m.\u001b[39m_IterableDataset_len_called:\n",
      "File \u001b[1;32mc:\\Users\\prabh\\AppData\\Local\\Programs\\Python\\Python310\\lib\\site-packages\\torch\\utils\\data\\dataloader.py:1329\u001b[0m, in \u001b[0;36m_MultiProcessingDataLoaderIter._next_data\u001b[1;34m(self)\u001b[0m\n\u001b[0;32m   1326\u001b[0m     \u001b[38;5;28;01mreturn\u001b[39;00m \u001b[38;5;28mself\u001b[39m\u001b[38;5;241m.\u001b[39m_process_data(data)\n\u001b[0;32m   1328\u001b[0m \u001b[38;5;28;01massert\u001b[39;00m \u001b[38;5;129;01mnot\u001b[39;00m \u001b[38;5;28mself\u001b[39m\u001b[38;5;241m.\u001b[39m_shutdown \u001b[38;5;129;01mand\u001b[39;00m \u001b[38;5;28mself\u001b[39m\u001b[38;5;241m.\u001b[39m_tasks_outstanding \u001b[38;5;241m>\u001b[39m \u001b[38;5;241m0\u001b[39m\n\u001b[1;32m-> 1329\u001b[0m idx, data \u001b[38;5;241m=\u001b[39m \u001b[38;5;28;43mself\u001b[39;49m\u001b[38;5;241;43m.\u001b[39;49m\u001b[43m_get_data\u001b[49m\u001b[43m(\u001b[49m\u001b[43m)\u001b[49m\n\u001b[0;32m   1330\u001b[0m \u001b[38;5;28mself\u001b[39m\u001b[38;5;241m.\u001b[39m_tasks_outstanding \u001b[38;5;241m-\u001b[39m\u001b[38;5;241m=\u001b[39m \u001b[38;5;241m1\u001b[39m\n\u001b[0;32m   1331\u001b[0m \u001b[38;5;28;01mif\u001b[39;00m \u001b[38;5;28mself\u001b[39m\u001b[38;5;241m.\u001b[39m_dataset_kind \u001b[38;5;241m==\u001b[39m _DatasetKind\u001b[38;5;241m.\u001b[39mIterable:\n\u001b[0;32m   1332\u001b[0m     \u001b[38;5;66;03m# Check for _IterableDatasetStopIteration\u001b[39;00m\n",
      "File \u001b[1;32mc:\\Users\\prabh\\AppData\\Local\\Programs\\Python\\Python310\\lib\\site-packages\\torch\\utils\\data\\dataloader.py:1295\u001b[0m, in \u001b[0;36m_MultiProcessingDataLoaderIter._get_data\u001b[1;34m(self)\u001b[0m\n\u001b[0;32m   1291\u001b[0m     \u001b[38;5;66;03m# In this case, `self._data_queue` is a `queue.Queue`,. But we don't\u001b[39;00m\n\u001b[0;32m   1292\u001b[0m     \u001b[38;5;66;03m# need to call `.task_done()` because we don't use `.join()`.\u001b[39;00m\n\u001b[0;32m   1293\u001b[0m \u001b[38;5;28;01melse\u001b[39;00m:\n\u001b[0;32m   1294\u001b[0m     \u001b[38;5;28;01mwhile\u001b[39;00m \u001b[38;5;28;01mTrue\u001b[39;00m:\n\u001b[1;32m-> 1295\u001b[0m         success, data \u001b[38;5;241m=\u001b[39m \u001b[38;5;28;43mself\u001b[39;49m\u001b[38;5;241;43m.\u001b[39;49m\u001b[43m_try_get_data\u001b[49m\u001b[43m(\u001b[49m\u001b[43m)\u001b[49m\n\u001b[0;32m   1296\u001b[0m         \u001b[38;5;28;01mif\u001b[39;00m success:\n\u001b[0;32m   1297\u001b[0m             \u001b[38;5;28;01mreturn\u001b[39;00m data\n",
      "File \u001b[1;32mc:\\Users\\prabh\\AppData\\Local\\Programs\\Python\\Python310\\lib\\site-packages\\torch\\utils\\data\\dataloader.py:1133\u001b[0m, in \u001b[0;36m_MultiProcessingDataLoaderIter._try_get_data\u001b[1;34m(self, timeout)\u001b[0m\n\u001b[0;32m   1120\u001b[0m \u001b[38;5;28;01mdef\u001b[39;00m \u001b[38;5;21m_try_get_data\u001b[39m(\u001b[38;5;28mself\u001b[39m, timeout\u001b[38;5;241m=\u001b[39m_utils\u001b[38;5;241m.\u001b[39mMP_STATUS_CHECK_INTERVAL):\n\u001b[0;32m   1121\u001b[0m     \u001b[38;5;66;03m# Tries to fetch data from `self._data_queue` once for a given timeout.\u001b[39;00m\n\u001b[0;32m   1122\u001b[0m     \u001b[38;5;66;03m# This can also be used as inner loop of fetching without timeout, with\u001b[39;00m\n\u001b[1;32m   (...)\u001b[0m\n\u001b[0;32m   1130\u001b[0m     \u001b[38;5;66;03m# Returns a 2-tuple:\u001b[39;00m\n\u001b[0;32m   1131\u001b[0m     \u001b[38;5;66;03m#   (bool: whether successfully get data, any: data if successful else None)\u001b[39;00m\n\u001b[0;32m   1132\u001b[0m     \u001b[38;5;28;01mtry\u001b[39;00m:\n\u001b[1;32m-> 1133\u001b[0m         data \u001b[38;5;241m=\u001b[39m \u001b[38;5;28;43mself\u001b[39;49m\u001b[38;5;241;43m.\u001b[39;49m\u001b[43m_data_queue\u001b[49m\u001b[38;5;241;43m.\u001b[39;49m\u001b[43mget\u001b[49m\u001b[43m(\u001b[49m\u001b[43mtimeout\u001b[49m\u001b[38;5;241;43m=\u001b[39;49m\u001b[43mtimeout\u001b[49m\u001b[43m)\u001b[49m\n\u001b[0;32m   1134\u001b[0m         \u001b[38;5;28;01mreturn\u001b[39;00m (\u001b[38;5;28;01mTrue\u001b[39;00m, data)\n\u001b[0;32m   1135\u001b[0m     \u001b[38;5;28;01mexcept\u001b[39;00m \u001b[38;5;167;01mException\u001b[39;00m \u001b[38;5;28;01mas\u001b[39;00m e:\n\u001b[0;32m   1136\u001b[0m         \u001b[38;5;66;03m# At timeout and error, we manually check whether any worker has\u001b[39;00m\n\u001b[0;32m   1137\u001b[0m         \u001b[38;5;66;03m# failed. Note that this is the only mechanism for Windows to detect\u001b[39;00m\n\u001b[0;32m   1138\u001b[0m         \u001b[38;5;66;03m# worker failures.\u001b[39;00m\n",
      "File \u001b[1;32mc:\\Users\\prabh\\AppData\\Local\\Programs\\Python\\Python310\\lib\\multiprocessing\\queues.py:113\u001b[0m, in \u001b[0;36mQueue.get\u001b[1;34m(self, block, timeout)\u001b[0m\n\u001b[0;32m    111\u001b[0m \u001b[38;5;28;01mif\u001b[39;00m block:\n\u001b[0;32m    112\u001b[0m     timeout \u001b[38;5;241m=\u001b[39m deadline \u001b[38;5;241m-\u001b[39m time\u001b[38;5;241m.\u001b[39mmonotonic()\n\u001b[1;32m--> 113\u001b[0m     \u001b[38;5;28;01mif\u001b[39;00m \u001b[38;5;129;01mnot\u001b[39;00m \u001b[38;5;28;43mself\u001b[39;49m\u001b[38;5;241;43m.\u001b[39;49m\u001b[43m_poll\u001b[49m\u001b[43m(\u001b[49m\u001b[43mtimeout\u001b[49m\u001b[43m)\u001b[49m:\n\u001b[0;32m    114\u001b[0m         \u001b[38;5;28;01mraise\u001b[39;00m Empty\n\u001b[0;32m    115\u001b[0m \u001b[38;5;28;01melif\u001b[39;00m \u001b[38;5;129;01mnot\u001b[39;00m \u001b[38;5;28mself\u001b[39m\u001b[38;5;241m.\u001b[39m_poll():\n",
      "File \u001b[1;32mc:\\Users\\prabh\\AppData\\Local\\Programs\\Python\\Python310\\lib\\multiprocessing\\connection.py:257\u001b[0m, in \u001b[0;36m_ConnectionBase.poll\u001b[1;34m(self, timeout)\u001b[0m\n\u001b[0;32m    255\u001b[0m \u001b[38;5;28mself\u001b[39m\u001b[38;5;241m.\u001b[39m_check_closed()\n\u001b[0;32m    256\u001b[0m \u001b[38;5;28mself\u001b[39m\u001b[38;5;241m.\u001b[39m_check_readable()\n\u001b[1;32m--> 257\u001b[0m \u001b[38;5;28;01mreturn\u001b[39;00m \u001b[38;5;28;43mself\u001b[39;49m\u001b[38;5;241;43m.\u001b[39;49m\u001b[43m_poll\u001b[49m\u001b[43m(\u001b[49m\u001b[43mtimeout\u001b[49m\u001b[43m)\u001b[49m\n",
      "File \u001b[1;32mc:\\Users\\prabh\\AppData\\Local\\Programs\\Python\\Python310\\lib\\multiprocessing\\connection.py:330\u001b[0m, in \u001b[0;36mPipeConnection._poll\u001b[1;34m(self, timeout)\u001b[0m\n\u001b[0;32m    327\u001b[0m \u001b[38;5;28;01mif\u001b[39;00m (\u001b[38;5;28mself\u001b[39m\u001b[38;5;241m.\u001b[39m_got_empty_message \u001b[38;5;129;01mor\u001b[39;00m\n\u001b[0;32m    328\u001b[0m             _winapi\u001b[38;5;241m.\u001b[39mPeekNamedPipe(\u001b[38;5;28mself\u001b[39m\u001b[38;5;241m.\u001b[39m_handle)[\u001b[38;5;241m0\u001b[39m] \u001b[38;5;241m!=\u001b[39m \u001b[38;5;241m0\u001b[39m):\n\u001b[0;32m    329\u001b[0m     \u001b[38;5;28;01mreturn\u001b[39;00m \u001b[38;5;28;01mTrue\u001b[39;00m\n\u001b[1;32m--> 330\u001b[0m \u001b[38;5;28;01mreturn\u001b[39;00m \u001b[38;5;28mbool\u001b[39m(\u001b[43mwait\u001b[49m\u001b[43m(\u001b[49m\u001b[43m[\u001b[49m\u001b[38;5;28;43mself\u001b[39;49m\u001b[43m]\u001b[49m\u001b[43m,\u001b[49m\u001b[43m \u001b[49m\u001b[43mtimeout\u001b[49m\u001b[43m)\u001b[49m)\n",
      "File \u001b[1;32mc:\\Users\\prabh\\AppData\\Local\\Programs\\Python\\Python310\\lib\\multiprocessing\\connection.py:879\u001b[0m, in \u001b[0;36mwait\u001b[1;34m(object_list, timeout)\u001b[0m\n\u001b[0;32m    876\u001b[0m                 ready_objects\u001b[38;5;241m.\u001b[39madd(o)\n\u001b[0;32m    877\u001b[0m                 timeout \u001b[38;5;241m=\u001b[39m \u001b[38;5;241m0\u001b[39m\n\u001b[1;32m--> 879\u001b[0m     ready_handles \u001b[38;5;241m=\u001b[39m \u001b[43m_exhaustive_wait\u001b[49m\u001b[43m(\u001b[49m\u001b[43mwaithandle_to_obj\u001b[49m\u001b[38;5;241;43m.\u001b[39;49m\u001b[43mkeys\u001b[49m\u001b[43m(\u001b[49m\u001b[43m)\u001b[49m\u001b[43m,\u001b[49m\u001b[43m \u001b[49m\u001b[43mtimeout\u001b[49m\u001b[43m)\u001b[49m\n\u001b[0;32m    880\u001b[0m \u001b[38;5;28;01mfinally\u001b[39;00m:\n\u001b[0;32m    881\u001b[0m     \u001b[38;5;66;03m# request that overlapped reads stop\u001b[39;00m\n\u001b[0;32m    882\u001b[0m     \u001b[38;5;28;01mfor\u001b[39;00m ov \u001b[38;5;129;01min\u001b[39;00m ov_list:\n",
      "File \u001b[1;32mc:\\Users\\prabh\\AppData\\Local\\Programs\\Python\\Python310\\lib\\multiprocessing\\connection.py:811\u001b[0m, in \u001b[0;36m_exhaustive_wait\u001b[1;34m(handles, timeout)\u001b[0m\n\u001b[0;32m    809\u001b[0m ready \u001b[38;5;241m=\u001b[39m []\n\u001b[0;32m    810\u001b[0m \u001b[38;5;28;01mwhile\u001b[39;00m L:\n\u001b[1;32m--> 811\u001b[0m     res \u001b[38;5;241m=\u001b[39m \u001b[43m_winapi\u001b[49m\u001b[38;5;241;43m.\u001b[39;49m\u001b[43mWaitForMultipleObjects\u001b[49m\u001b[43m(\u001b[49m\u001b[43mL\u001b[49m\u001b[43m,\u001b[49m\u001b[43m \u001b[49m\u001b[38;5;28;43;01mFalse\u001b[39;49;00m\u001b[43m,\u001b[49m\u001b[43m \u001b[49m\u001b[43mtimeout\u001b[49m\u001b[43m)\u001b[49m\n\u001b[0;32m    812\u001b[0m     \u001b[38;5;28;01mif\u001b[39;00m res \u001b[38;5;241m==\u001b[39m WAIT_TIMEOUT:\n\u001b[0;32m    813\u001b[0m         \u001b[38;5;28;01mbreak\u001b[39;00m\n",
      "\u001b[1;31mKeyboardInterrupt\u001b[0m: "
     ]
    }
   ],
   "source": [
    "print(\"Accuracy of original model : \", accuracy(original_model, test_loader))\n",
    "print(\"Accuracy of pruned model : \", accuracy(pruned_model, test_loader))\n",
    "print(\"Number of non zero weights in original model : \", non_zero_weights(original_model))\n",
    "print(\"Number of non zero weights in pruned model : \", non_zero_weights(pruned_model))\n",
    "print(\"Compression Ratio : \", compression_ratio(original_model, pruned_model))"
   ]
  },
  {
   "cell_type": "code",
   "execution_count": null,
   "metadata": {
    "collapsed": false
   },
   "outputs": [],
   "source": [
    "#for Decay pruning with reverse=True\n",
    "#model = Lenet()\n",
    "criterion = nn.CrossEntropyLoss()\n",
    "optimizer = torch.optim.Adam(original_model.parameters(), lr=0.001)\n",
    "\n",
    "trainer = DecayPrune(original_model, 5, train_loader, criterion, optimizer, 0.8, 0.05,\n",
    "                     True)  #init pruning rate = 0.5, decay = 0.1\n",
    "\n",
    "#train and prune the model and return both the original and pruned model\n",
    "#original_model, pruned_model = trainer.train_prune_retrain()\n",
    "pruned_model = trainer.prune_model()"
   ]
  },
  {
   "cell_type": "code",
   "execution_count": null,
   "metadata": {
    "collapsed": false
   },
   "outputs": [
    {
     "name": "stdout",
     "output_type": "stream",
     "text": [
      "Accuracy of original model :  [98.72]\n",
      "Accuracy of pruned model :  [98.58]\n",
      "Number of non zero weights in original model :  44190\n",
      "Number of non zero weights in pruned model :  23851\n",
      "Compression Ratio :  0.5397374971713057\n"
     ]
    }
   ],
   "source": [
    "print(\"Accuracy of original model : \", accuracy(original_model, test_loader))\n",
    "print(\"Accuracy of pruned model : \", accuracy(pruned_model, test_loader))\n",
    "print(\"Number of non zero weights in original model : \", non_zero_weights(original_model))\n",
    "print(\"Number of non zero weights in pruned model : \", non_zero_weights(pruned_model))\n",
    "print(\"Compression Ratio : \", compression_ratio(original_model, pruned_model))"
   ]
  },
  {
   "cell_type": "code",
   "execution_count": null,
   "metadata": {},
   "outputs": [],
   "source": [
    "#two to four pruning\n",
    "#model = Lenet()\n",
    "criterion = nn.CrossEntropyLoss()\n",
    "optimizer = torch.optim.Adam(original_model.parameters(), lr=0.001)\n",
    "\n",
    "trainer = two_to_four_prune(original_model, 5, train_loader, criterion, optimizer)\n",
    "\n",
    "#train and prune the model and return both the original and pruned model\n",
    "#original_model, pruned_model = trainer.train_prune_retrain()\n",
    "pruned_model = trainer.prune_model()"
   ]
  },
  {
   "cell_type": "code",
   "execution_count": null,
   "metadata": {},
   "outputs": [
    {
     "name": "stdout",
     "output_type": "stream",
     "text": [
      "Accuracy of original model :  [98.72]\n",
      "Accuracy of pruned model :  [36.5]\n",
      "Number of non zero weights in original model :  44190\n",
      "Number of non zero weights in pruned model :  22350\n",
      "Compression Ratio :  0.5057705363204344\n"
     ]
    }
   ],
   "source": [
    "print(\"Accuracy of original model : \", accuracy(original_model, test_loader))\n",
    "print(\"Accuracy of pruned model : \", accuracy(pruned_model, test_loader))\n",
    "print(\"Number of non zero weights in original model : \", non_zero_weights(original_model))\n",
    "print(\"Number of non zero weights in pruned model : \", non_zero_weights(pruned_model))\n",
    "print(\"Compression Ratio : \", compression_ratio(original_model, pruned_model))"
   ]
  },
  {
   "cell_type": "code",
   "execution_count": null,
   "metadata": {},
   "outputs": [],
   "source": [
    "#random pruning -- weights\n",
    "#model = Lenet()\n",
    "criterion = nn.CrossEntropyLoss()\n",
    "optimizer = torch.optim.Adam(original_model.parameters(), lr=0.001)\n",
    "\n",
    "trainer = RandomUnstructured(original_model, 5, train_loader, criterion, optimizer,0.5)\n",
    "\n",
    "#train and prune the model and return both the original and pruned model\n",
    "#original_model, pruned_model = trainer.train_prune_retrain()\n",
    "pruned_model = trainer.prune_model()"
   ]
  },
  {
   "cell_type": "code",
   "execution_count": null,
   "metadata": {},
   "outputs": [
    {
     "name": "stdout",
     "output_type": "stream",
     "text": [
      "Accuracy of original model :  [98.72]\n",
      "Accuracy of pruned model :  [72.42]\n",
      "Number of non zero weights in original model :  44190\n",
      "Number of non zero weights in pruned model :  22095\n",
      "Compression Ratio :  0.5\n"
     ]
    }
   ],
   "source": [
    "print(\"Accuracy of original model : \", accuracy(original_model, test_loader))\n",
    "print(\"Accuracy of pruned model : \", accuracy(pruned_model, test_loader))\n",
    "print(\"Number of non zero weights in original model : \", non_zero_weights(original_model))\n",
    "print(\"Number of non zero weights in pruned model : \", non_zero_weights(pruned_model))\n",
    "print(\"Compression Ratio : \", compression_ratio(original_model, pruned_model))"
   ]
  },
  {
   "cell_type": "code",
   "execution_count": null,
   "metadata": {},
   "outputs": [],
   "source": [
    "#global pruning \n",
    "#model = Lenet()\n",
    "criterion = nn.CrossEntropyLoss()\n",
    "optimizer = torch.optim.Adam(original_model.parameters(), lr=0.001)\n",
    "\n",
    "trainer = GlobalPrune(original_model, 5, train_loader, criterion, optimizer,0.5)\n",
    "\n",
    "#train and prune the model and return both the original and pruned model\n",
    "#original_model, pruned_model = trainer.train_prune_retrain()\n",
    "pruned_model = trainer.prune_model()"
   ]
  },
  {
   "cell_type": "code",
   "execution_count": null,
   "metadata": {},
   "outputs": [
    {
     "name": "stdout",
     "output_type": "stream",
     "text": [
      "Accuracy of original model :  [98.72]\n",
      "Accuracy of pruned model :  [98.65]\n",
      "Number of non zero weights in original model :  44190\n",
      "Number of non zero weights in pruned model :  22095\n",
      "Compression Ratio :  0.5\n"
     ]
    }
   ],
   "source": [
    "print(\"Accuracy of original model : \", accuracy(original_model, test_loader))\n",
    "print(\"Accuracy of pruned model : \", accuracy(pruned_model, test_loader))\n",
    "print(\"Number of non zero weights in original model : \", non_zero_weights(original_model))\n",
    "print(\"Number of non zero weights in pruned model : \", non_zero_weights(pruned_model))\n",
    "print(\"Compression Ratio : \", compression_ratio(original_model, pruned_model))"
   ]
  },
  {
   "cell_type": "code",
   "execution_count": null,
   "metadata": {},
   "outputs": [],
   "source": [
    "#Ln structured pruning\n",
    "#Prune tensor by removing channels with the lowest Ln-norm along the specified dimension.\n",
    "#model = Lenet()\n",
    "criterion = nn.CrossEntropyLoss()\n",
    "optimizer = torch.optim.Adam(original_model.parameters(), lr=0.001)\n",
    "trainer = LnStructuredPrune(original_model, 5, train_loader, criterion, optimizer,0.5,2,1) #2 is the norm value,1 is dim\n",
    "\n",
    "#train and prune the model and return both the original and pruned model\n",
    "#original_model, pruned_model = trainer.train_prune_retrain()\n",
    "pruned_model = trainer.prune_model()"
   ]
  },
  {
   "cell_type": "code",
   "execution_count": null,
   "metadata": {},
   "outputs": [
    {
     "name": "stdout",
     "output_type": "stream",
     "text": [
      "Accuracy of original model :  [98.72]\n",
      "Accuracy of pruned model :  [50.12]\n",
      "Number of non zero weights in original model :  44190\n",
      "Number of non zero weights in pruned model :  22170\n",
      "Compression Ratio :  0.5016972165648337\n"
     ]
    }
   ],
   "source": [
    "print(\"Accuracy of original model : \", accuracy(original_model, test_loader))\n",
    "print(\"Accuracy of pruned model : \", accuracy(pruned_model, test_loader))\n",
    "print(\"Number of non zero weights in original model : \", non_zero_weights(original_model))\n",
    "print(\"Number of non zero weights in pruned model : \", non_zero_weights(pruned_model))\n",
    "print(\"Compression Ratio : \", compression_ratio(original_model, pruned_model))"
   ]
  },
  {
   "cell_type": "code",
   "execution_count": null,
   "metadata": {},
   "outputs": [],
   "source": [
    "#Thinet\n",
    "original_model = Lenet()\n",
    "criterion = nn.CrossEntropyLoss()\n",
    "optimizer = torch.optim.Adam(original_model.parameters(), lr=0.001)\n",
    "\n",
    "trainer = Thinet(original_model, 5, train_loader, criterion, optimizer,amount=0.5)  #init amount = 0.2(no of channels)\n",
    "\n",
    "#train and prune the model and return both the original and pruned model\n",
    "pruned_model = trainer.prune_model()"
   ]
  },
  {
   "cell_type": "code",
   "execution_count": null,
   "metadata": {},
   "outputs": [],
   "source": [
    "# print(\"Accuracy of original model : \", accuracy(original_model, test_loader))\n",
    "# print(\"Accuracy of pruned model : \", accuracy(pruned_model, test_loader))\n",
    "# print(\"Number of non zero weights in original model : \", non_zero_weights(original_model))\n",
    "# print(\"Number of non zero weights in pruned model : \", non_zero_weights(pruned_model))\n",
    "# print(\"Compression Ratio : \", compression_ratio(original_model, pruned_model))"
   ]
  }
 ],
 "metadata": {
  "kernelspec": {
   "display_name": "Python 3 (ipykernel)",
   "language": "python",
   "name": "python3"
  },
  "language_info": {
   "codemirror_mode": {
    "name": "ipython",
    "version": 3
   },
   "file_extension": ".py",
   "mimetype": "text/x-python",
   "name": "python",
   "nbconvert_exporter": "python",
   "pygments_lexer": "ipython3",
   "version": "3.10.11"
  }
 },
 "nbformat": 4,
 "nbformat_minor": 4
}
