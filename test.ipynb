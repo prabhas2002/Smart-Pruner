{
 "cells": [
  {
   "cell_type": "code",
   "execution_count": 19,
   "metadata": {
    "ExecuteTime": {
     "end_time": "2024-03-11T08:08:44.973536Z",
     "start_time": "2024-03-11T08:08:44.967425Z"
    }
   },
   "outputs": [],
   "source": [
    "import torch.nn as nn\n",
    "\n",
    "from datasets import *\n",
    "from evaluation import *\n",
    "from models import *\n",
    "from pruning.unstructured import *"
   ]
  },
  {
   "cell_type": "code",
   "execution_count": 20,
   "metadata": {
    "ExecuteTime": {
     "end_time": "2024-03-11T08:08:47.973412Z",
     "start_time": "2024-03-11T08:08:44.977873Z"
    }
   },
   "outputs": [],
   "source": [
    "lenet = Lenet()\n",
    "mnist = MNIST()\n",
    "train_loader, test_loader = mnist.get_dataloader()"
   ]
  },
  {
   "cell_type": "code",
   "execution_count": 21,
   "metadata": {
    "ExecuteTime": {
     "end_time": "2024-03-11T08:08:48.144783Z",
     "start_time": "2024-03-11T08:08:47.976657Z"
    }
   },
   "outputs": [],
   "source": [
    "criterion = nn.CrossEntropyLoss()\n",
    "optimizer = torch.optim.Adam(lenet.parameters(), lr=0.001)"
   ]
  },
  {
   "cell_type": "code",
   "execution_count": 22,
   "metadata": {
    "ExecuteTime": {
     "end_time": "2024-03-11T08:08:55.745244Z",
     "start_time": "2024-03-11T08:08:48.146900Z"
    }
   },
   "outputs": [
    {
     "data": {
      "text/plain": "  0%|          | 0/5 [00:00<?, ?it/s]",
      "application/vnd.jupyter.widget-view+json": {
       "version_major": 2,
       "version_minor": 0,
       "model_id": "ec2ff0086c7b46ceb8486dcde03a86d2"
      }
     },
     "metadata": {},
     "output_type": "display_data"
    },
    {
     "name": "stdout",
     "output_type": "stream",
     "text": [
      "Epoch: 1 | train_loss: 4.3174 | \n",
      "Epoch: 2 | train_loss: 2.9912 | \n",
      "Epoch: 3 | train_loss: 2.5416 | \n",
      "Epoch: 4 | train_loss: 2.1763 | \n",
      "Epoch: 5 | train_loss: 1.8879 | \n",
      "Training is done\n",
      "Pruning is done\n"
     ]
    }
   ],
   "source": [
    "trainer = UnstructuredL1normPrune(lenet, 5, train_loader, criterion, optimizer, 0.5)\n",
    "model, pruned_model = trainer.train_prune_retrain()"
   ]
  },
  {
   "cell_type": "code",
   "execution_count": 23,
   "metadata": {
    "ExecuteTime": {
     "end_time": "2024-03-11T08:08:57.625451Z",
     "start_time": "2024-03-11T08:08:55.748671Z"
    }
   },
   "outputs": [
    {
     "name": "stdout",
     "output_type": "stream",
     "text": [
      "[0.9829]\n",
      "[0.9661]\n"
     ]
    }
   ],
   "source": [
    "print(accuracy(model, test_loader))\n",
    "print(accuracy(pruned_model, test_loader))"
   ]
  },
  {
   "cell_type": "code",
   "execution_count": 24,
   "metadata": {},
   "outputs": [
    {
     "name": "stdout",
     "output_type": "stream",
     "text": [
      "44190\n",
      "22095\n",
      "0.5\n"
     ]
    }
   ],
   "source": [
    "print(non_zero_weights(model))\n",
    "print(non_zero_weights(pruned_model))\n",
    "print(compression_ratio(model, pruned_model))"
   ]
  }
 ],
 "metadata": {
  "kernelspec": {
   "display_name": "Python 3 (ipykernel)",
   "language": "python",
   "name": "python3"
  },
  "language_info": {
   "codemirror_mode": {
    "name": "ipython",
    "version": 3
   },
   "file_extension": ".py",
   "mimetype": "text/x-python",
   "name": "python",
   "nbconvert_exporter": "python",
   "pygments_lexer": "ipython3",
   "version": "3.10.12"
  }
 },
 "nbformat": 4,
 "nbformat_minor": 4
}
