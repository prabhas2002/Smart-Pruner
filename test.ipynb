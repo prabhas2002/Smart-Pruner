{
 "cells": [
  {
   "cell_type": "code",
   "execution_count": 1,
   "metadata": {
    "ExecuteTime": {
     "end_time": "2024-03-11T08:44:38.691809Z",
     "start_time": "2024-03-11T08:44:38.686405Z"
    }
   },
   "outputs": [
    {
     "name": "stderr",
     "output_type": "stream",
     "text": [
      "c:\\Users\\prabh\\AppData\\Local\\Programs\\Python\\Python310\\lib\\site-packages\\torchvision\\io\\image.py:13: UserWarning: Failed to load image Python extension: '[WinError 127] The specified procedure could not be found'If you don't plan on using image functionality from `torchvision.io`, you can ignore this warning. Otherwise, there might be something wrong with your environment. Did you have `libjpeg` or `libpng` installed before building `torchvision` from source?\n",
      "  warn(\n",
      "c:\\Users\\prabh\\AppData\\Local\\Programs\\Python\\Python310\\lib\\site-packages\\transformers\\utils\\generic.py:441: UserWarning: torch.utils._pytree._register_pytree_node is deprecated. Please use torch.utils._pytree.register_pytree_node instead.\n",
      "  _torch_pytree._register_pytree_node(\n"
     ]
    },
    {
     "name": "stdout",
     "output_type": "stream",
     "text": [
      "Importing C:\\Users\\prabh\\Smart-pruner-dev\\pruning\\unstructured\\L1norm.py\n",
      "Importing C:\\Users\\prabh\\Smart-pruner-dev\\pruning\\Train.py\n",
      "Importing C:\\Users\\prabh\\Smart-pruner-dev\\pruning\\unstructured\\random.py\n",
      "Importing C:\\Users\\prabh\\Smart-pruner-dev\\pruning\\structured\\decay_pruning.py\n",
      "Importing C:\\Users\\prabh\\Smart-pruner-dev\\pruning\\structured\\two_to_four.py\n",
      "Importing C:\\Users\\prabh\\Smart-pruner-dev\\pruning\\structured\\Thinet.py\n",
      "Importing C:\\Users\\prabh\\Smart-pruner-dev\\pruning\\structured\\Global_pruning.py\n",
      "Importing C:\\Users\\prabh\\Smart-pruner-dev\\pruning\\structured\\Ln_structured.py\n"
     ]
    }
   ],
   "source": [
    "import torch.nn as nn\n",
    "\n",
    "from datasets import *\n",
    "from evaluation import *\n",
    "from models import *\n",
    "from pruning.unstructured import *\n",
    "from pruning.structured import *"
   ]
  },
  {
   "cell_type": "code",
   "execution_count": 2,
   "metadata": {
    "collapsed": false
   },
   "outputs": [],
   "source": [
    "dataset = MNIST()\n",
    "train_loader, test_loader = dataset.get_dataloader()"
   ]
  },
  {
   "cell_type": "code",
   "execution_count": 3,
   "metadata": {},
   "outputs": [
    {
     "data": {
      "application/vnd.jupyter.widget-view+json": {
       "model_id": "b7356c5d1d794541ba6bd0e1db71ec5a",
       "version_major": 2,
       "version_minor": 0
      },
      "text/plain": [
       "  0%|          | 0/10 [00:00<?, ?it/s]"
      ]
     },
     "metadata": {},
     "output_type": "display_data"
    },
    {
     "name": "stdout",
     "output_type": "stream",
     "text": [
      "Epoch: 1 | train_loss: 4.9720 | \n",
      "Epoch: 2 | train_loss: 3.5517 | \n",
      "Epoch: 3 | train_loss: 3.2159 | \n",
      "Epoch: 4 | train_loss: 2.9457 | \n",
      "Epoch: 5 | train_loss: 2.6864 | \n",
      "Epoch: 6 | train_loss: 2.4534 | \n",
      "Epoch: 7 | train_loss: 2.2295 | \n",
      "Epoch: 8 | train_loss: 1.9752 | \n",
      "Epoch: 9 | train_loss: 1.9516 | \n",
      "Epoch: 10 | train_loss: 1.5723 | \n",
      "Accuracy of original model :  [98.72]\n"
     ]
    }
   ],
   "source": [
    "#train model and return it\n",
    "model = Lenet()\n",
    "criterion = nn.CrossEntropyLoss()\n",
    "optimizer = torch.optim.Adam(model.parameters(), lr=0.001)\n",
    "model = Trainer(model, 10, train_loader, criterion, optimizer)\n",
    "original_model = model.train()\n",
    "print(\"Accuracy of original model : \", accuracy(original_model, test_loader))"
   ]
  },
  {
   "cell_type": "code",
   "execution_count": 4,
   "metadata": {
    "collapsed": false
   },
   "outputs": [],
   "source": [
    "#for UnstructuredL1normPrune\n",
    "\n",
    "# model = Lenet()\n",
    "criterion = nn.CrossEntropyLoss()\n",
    "optimizer = torch.optim.Adam(original_model.parameters(), lr=0.001)\n",
    "\n",
    "trainer = UnstructuredL1normPrune(original_model, 5, train_loader, criterion, optimizer, 0.5)\n",
    "\n",
    "#train and prune the model and return both the original and pruned model\n",
    "#original_model, pruned_model = trainer.train_prune_retrain()\n",
    "pruned_model = trainer.prune_model()"
   ]
  },
  {
   "cell_type": "code",
   "execution_count": 5,
   "metadata": {
    "collapsed": false
   },
   "outputs": [
    {
     "name": "stdout",
     "output_type": "stream",
     "text": [
      "Accuracy of original model :  [98.72]\n",
      "Accuracy of pruned model :  [97.84]\n",
      "Number of non zero weights in original model :  44190\n",
      "Number of non zero weights in pruned model :  22095\n",
      "Compression Ratio :  0.5\n"
     ]
    }
   ],
   "source": [
    "print(\"Accuracy of original model : \", accuracy(original_model, test_loader))\n",
    "print(\"Accuracy of pruned model : \", accuracy(pruned_model, test_loader))\n",
    "print(\"Number of non zero weights in original model : \", non_zero_weights(original_model))\n",
    "print(\"Number of non zero weights in pruned model : \", non_zero_weights(pruned_model))\n",
    "print(\"Compression Ratio : \", compression_ratio(original_model, pruned_model))"
   ]
  },
  {
   "cell_type": "code",
   "execution_count": 6,
   "metadata": {
    "collapsed": false
   },
   "outputs": [],
   "source": [
    "#for Decay pruning with reverse=False\n",
    "#model = Lenet()\n",
    "criterion = nn.CrossEntropyLoss()\n",
    "optimizer = torch.optim.Adam(original_model.parameters(), lr=0.001)\n",
    "\n",
    "trainer = DecayPrune(original_model, 5, train_loader, criterion, optimizer, 0.8, 0.05,\n",
    "                     False)  #init pruning rate = 0.5, decay = 0.1\n",
    "\n",
    "#train and prune the model and return both the original and pruned model\n",
    "#original_model, pruned_model = trainer.train_prune_retrain()\n",
    "pruned_model = trainer.prune_model()"
   ]
  },
  {
   "cell_type": "code",
   "execution_count": 7,
   "metadata": {
    "collapsed": false
   },
   "outputs": [
    {
     "name": "stdout",
     "output_type": "stream",
     "text": [
      "Accuracy of original model :  [98.72]\n",
      "Accuracy of pruned model :  [91.19]\n",
      "Number of non zero weights in original model :  44190\n",
      "Number of non zero weights in pruned model :  13710\n",
      "Compression Ratio :  0.3102511880515954\n"
     ]
    }
   ],
   "source": [
    "print(\"Accuracy of original model : \", accuracy(original_model, test_loader))\n",
    "print(\"Accuracy of pruned model : \", accuracy(pruned_model, test_loader))\n",
    "print(\"Number of non zero weights in original model : \", non_zero_weights(original_model))\n",
    "print(\"Number of non zero weights in pruned model : \", non_zero_weights(pruned_model))\n",
    "print(\"Compression Ratio : \", compression_ratio(original_model, pruned_model))"
   ]
  },
  {
   "cell_type": "code",
   "execution_count": 8,
   "metadata": {
    "collapsed": false
   },
   "outputs": [],
   "source": [
    "#for Decay pruning with reverse=True\n",
    "#model = Lenet()\n",
    "criterion = nn.CrossEntropyLoss()\n",
    "optimizer = torch.optim.Adam(original_model.parameters(), lr=0.001)\n",
    "\n",
    "trainer = DecayPrune(original_model, 5, train_loader, criterion, optimizer, 0.8, 0.05,\n",
    "                     True)  #init pruning rate = 0.5, decay = 0.1\n",
    "\n",
    "#train and prune the model and return both the original and pruned model\n",
    "#original_model, pruned_model = trainer.train_prune_retrain()\n",
    "pruned_model = trainer.prune_model()"
   ]
  },
  {
   "cell_type": "code",
   "execution_count": 9,
   "metadata": {
    "collapsed": false
   },
   "outputs": [
    {
     "name": "stdout",
     "output_type": "stream",
     "text": [
      "Accuracy of original model :  [98.72]\n",
      "Accuracy of pruned model :  [98.58]\n",
      "Number of non zero weights in original model :  44190\n",
      "Number of non zero weights in pruned model :  23851\n",
      "Compression Ratio :  0.5397374971713057\n"
     ]
    }
   ],
   "source": [
    "print(\"Accuracy of original model : \", accuracy(original_model, test_loader))\n",
    "print(\"Accuracy of pruned model : \", accuracy(pruned_model, test_loader))\n",
    "print(\"Number of non zero weights in original model : \", non_zero_weights(original_model))\n",
    "print(\"Number of non zero weights in pruned model : \", non_zero_weights(pruned_model))\n",
    "print(\"Compression Ratio : \", compression_ratio(original_model, pruned_model))"
   ]
  },
  {
   "cell_type": "code",
   "execution_count": 10,
   "metadata": {},
   "outputs": [],
   "source": [
    "#two to four pruning\n",
    "#model = Lenet()\n",
    "criterion = nn.CrossEntropyLoss()\n",
    "optimizer = torch.optim.Adam(original_model.parameters(), lr=0.001)\n",
    "\n",
    "trainer = two_to_four_prune(original_model, 5, train_loader, criterion, optimizer)\n",
    "\n",
    "#train and prune the model and return both the original and pruned model\n",
    "#original_model, pruned_model = trainer.train_prune_retrain()\n",
    "pruned_model = trainer.prune_model()"
   ]
  },
  {
   "cell_type": "code",
   "execution_count": null,
   "metadata": {},
   "outputs": [
    {
     "name": "stdout",
     "output_type": "stream",
     "text": [
      "Accuracy of original model :  [98.72]\n",
      "Accuracy of pruned model :  [36.5]\n",
      "Number of non zero weights in original model :  44190\n",
      "Number of non zero weights in pruned model :  22350\n",
      "Compression Ratio :  0.5057705363204344\n"
     ]
    }
   ],
   "source": [
    "print(\"Accuracy of original model : \", accuracy(original_model, test_loader))\n",
    "print(\"Accuracy of pruned model : \", accuracy(pruned_model, test_loader))\n",
    "print(\"Number of non zero weights in original model : \", non_zero_weights(original_model))\n",
    "print(\"Number of non zero weights in pruned model : \", non_zero_weights(pruned_model))\n",
    "print(\"Compression Ratio : \", compression_ratio(original_model, pruned_model))"
   ]
  },
  {
   "cell_type": "code",
   "execution_count": null,
   "metadata": {},
   "outputs": [],
   "source": [
    "#random pruning -- weights\n",
    "#model = Lenet()\n",
    "criterion = nn.CrossEntropyLoss()\n",
    "optimizer = torch.optim.Adam(original_model.parameters(), lr=0.001)\n",
    "\n",
    "trainer = RandomUnstructured(original_model, 5, train_loader, criterion, optimizer,0.5)\n",
    "\n",
    "#train and prune the model and return both the original and pruned model\n",
    "#original_model, pruned_model = trainer.train_prune_retrain()\n",
    "pruned_model = trainer.prune_model()"
   ]
  },
  {
   "cell_type": "code",
   "execution_count": null,
   "metadata": {},
   "outputs": [
    {
     "name": "stdout",
     "output_type": "stream",
     "text": [
      "Accuracy of original model :  [98.72]\n",
      "Accuracy of pruned model :  [72.42]\n",
      "Number of non zero weights in original model :  44190\n",
      "Number of non zero weights in pruned model :  22095\n",
      "Compression Ratio :  0.5\n"
     ]
    }
   ],
   "source": [
    "print(\"Accuracy of original model : \", accuracy(original_model, test_loader))\n",
    "print(\"Accuracy of pruned model : \", accuracy(pruned_model, test_loader))\n",
    "print(\"Number of non zero weights in original model : \", non_zero_weights(original_model))\n",
    "print(\"Number of non zero weights in pruned model : \", non_zero_weights(pruned_model))\n",
    "print(\"Compression Ratio : \", compression_ratio(original_model, pruned_model))"
   ]
  },
  {
   "cell_type": "code",
   "execution_count": null,
   "metadata": {},
   "outputs": [],
   "source": [
    "#global pruning \n",
    "#model = Lenet()\n",
    "criterion = nn.CrossEntropyLoss()\n",
    "optimizer = torch.optim.Adam(original_model.parameters(), lr=0.001)\n",
    "\n",
    "trainer = GlobalPrune(original_model, 5, train_loader, criterion, optimizer,0.5)\n",
    "\n",
    "#train and prune the model and return both the original and pruned model\n",
    "#original_model, pruned_model = trainer.train_prune_retrain()\n",
    "pruned_model = trainer.prune_model()"
   ]
  },
  {
   "cell_type": "code",
   "execution_count": null,
   "metadata": {},
   "outputs": [
    {
     "name": "stdout",
     "output_type": "stream",
     "text": [
      "Accuracy of original model :  [98.72]\n",
      "Accuracy of pruned model :  [98.65]\n",
      "Number of non zero weights in original model :  44190\n",
      "Number of non zero weights in pruned model :  22095\n",
      "Compression Ratio :  0.5\n"
     ]
    }
   ],
   "source": [
    "print(\"Accuracy of original model : \", accuracy(original_model, test_loader))\n",
    "print(\"Accuracy of pruned model : \", accuracy(pruned_model, test_loader))\n",
    "print(\"Number of non zero weights in original model : \", non_zero_weights(original_model))\n",
    "print(\"Number of non zero weights in pruned model : \", non_zero_weights(pruned_model))\n",
    "print(\"Compression Ratio : \", compression_ratio(original_model, pruned_model))"
   ]
  },
  {
   "cell_type": "code",
   "execution_count": null,
   "metadata": {},
   "outputs": [],
   "source": [
    "#Ln structured pruning\n",
    "#Prune tensor by removing channels with the lowest Ln-norm along the specified dimension.\n",
    "#model = Lenet()\n",
    "criterion = nn.CrossEntropyLoss()\n",
    "optimizer = torch.optim.Adam(original_model.parameters(), lr=0.001)\n",
    "trainer = LnStructuredPrune(original_model, 5, train_loader, criterion, optimizer,0.5,2,1) #2 is the norm value,1 is dim\n",
    "\n",
    "#train and prune the model and return both the original and pruned model\n",
    "#original_model, pruned_model = trainer.train_prune_retrain()\n",
    "pruned_model = trainer.prune_model()"
   ]
  },
  {
   "cell_type": "code",
   "execution_count": null,
   "metadata": {},
   "outputs": [
    {
     "name": "stdout",
     "output_type": "stream",
     "text": [
      "Accuracy of original model :  [98.72]\n",
      "Accuracy of pruned model :  [50.12]\n",
      "Number of non zero weights in original model :  44190\n",
      "Number of non zero weights in pruned model :  22170\n",
      "Compression Ratio :  0.5016972165648337\n"
     ]
    }
   ],
   "source": [
    "print(\"Accuracy of original model : \", accuracy(original_model, test_loader))\n",
    "print(\"Accuracy of pruned model : \", accuracy(pruned_model, test_loader))\n",
    "print(\"Number of non zero weights in original model : \", non_zero_weights(original_model))\n",
    "print(\"Number of non zero weights in pruned model : \", non_zero_weights(pruned_model))\n",
    "print(\"Compression Ratio : \", compression_ratio(original_model, pruned_model))"
   ]
  },
  {
   "cell_type": "code",
   "execution_count": null,
   "metadata": {},
   "outputs": [],
   "source": [
    "#Thinet\n",
    "original_model = Lenet()\n",
    "criterion = nn.CrossEntropyLoss()\n",
    "optimizer = torch.optim.Adam(original_model.parameters(), lr=0.001)\n",
    "\n",
    "trainer = Thinet(original_model, 5, train_loader, criterion, optimizer,amount=0.5)  #init amount = 0.2(no of channels)\n",
    "\n",
    "#train and prune the model and return both the original and pruned model\n",
    "pruned_model = trainer.prune_model()"
   ]
  },
  {
   "cell_type": "code",
   "execution_count": null,
   "metadata": {},
   "outputs": [],
   "source": [
    "# print(\"Accuracy of original model : \", accuracy(original_model, test_loader))\n",
    "# print(\"Accuracy of pruned model : \", accuracy(pruned_model, test_loader))\n",
    "# print(\"Number of non zero weights in original model : \", non_zero_weights(original_model))\n",
    "# print(\"Number of non zero weights in pruned model : \", non_zero_weights(pruned_model))\n",
    "# print(\"Compression Ratio : \", compression_ratio(original_model, pruned_model))"
   ]
  }
 ],
 "metadata": {
  "kernelspec": {
   "display_name": "Python 3 (ipykernel)",
   "language": "python",
   "name": "python3"
  },
  "language_info": {
   "codemirror_mode": {
    "name": "ipython",
    "version": 3
   },
   "file_extension": ".py",
   "mimetype": "text/x-python",
   "name": "python",
   "nbconvert_exporter": "python",
   "pygments_lexer": "ipython3",
   "version": "3.10.11"
  }
 },
 "nbformat": 4,
 "nbformat_minor": 4
}
